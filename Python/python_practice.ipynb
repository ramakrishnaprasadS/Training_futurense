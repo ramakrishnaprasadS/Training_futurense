{
 "cells": [
  {
   "cell_type": "code",
   "execution_count": 6,
   "metadata": {},
   "outputs": [],
   "source": [
    "def test(num1,num2):\n",
    "        tota=num1+num2\n",
    "        if tota.isnumeric():\n",
    "            f=1\n",
    "            sm=int(num1)+int(num2)\n",
    "            return sm\n",
    "        else:\n",
    "            print(\"enter values in integer format\")\n",
    "            nm1=input(\"enter value1\")\n",
    "            nm2=input(\"enter value2\")\n",
    "            return test(nm1,nm2)\n",
    "f=0\n",
    "for i in range(3):\n",
    "    num1=input(\"enter value1\")\n",
    "    num2=input(\"enter value2\")\n",
    "    result=test(num1,num2)\n",
    "    if f==1:\n",
    "        print(result)\n",
    "        break"
   ]
  },
  {
   "cell_type": "code",
   "execution_count": 5,
   "metadata": {},
   "outputs": [
    {
     "name": "stdout",
     "output_type": "stream",
     "text": [
      "password is validated.\n",
      "caps=1,smalls=5,numbers=4,special chars=1\n"
     ]
    }
   ],
   "source": [
    "#take a input as paswd from user and validate the following conditions\n",
    "#1.there should be atleast i capital letter\n",
    "#2.atleast one samlll letter from a to z\n",
    "#3.there should be atleast 1 num between 0 to 6\n",
    "#4.should have 1 special charcter @ # $\n",
    "#if any condition not met ask for paswd again.....if not on 3rd time print the message try limit exceeded\n",
    "# do not use any library of python like regular expression\n",
    "\n",
    "\n",
    "attempts = 0\n",
    "caps = 0\n",
    "small = 0\n",
    "number = 0\n",
    "spec = 0\n",
    "while attempts < 3:\n",
    "  password = input()\n",
    "  # caps count\n",
    "  for i in range(0,len(password)):\n",
    "    if ord(password[i]) >= 65 and ord(password[i]) <= 90: \n",
    "      caps +=1\n",
    "  # smalls count\n",
    "  \n",
    "    elif ord(password[i]) >= 97 and ord(password[i]) <= 122: \n",
    "      small +=1\n",
    "  # numbers count\n",
    "  \n",
    "    elif ord(password[i]) >= 49 and ord(password[i]) <= 54: \n",
    "      number +=1\n",
    "  # special chars count\n",
    "  \n",
    "    elif password[i] == \"@\" or password[i] == \"#\" or password[i] == \"$\":\n",
    "      spec +=1\n",
    " \n",
    "  attempts +=1\n",
    "\n",
    "  if caps > 0 and small > 0 and number > 0 and spec > 0:\n",
    "    print(\"password is validated.\")\n",
    "    #print(f\"caps={caps},smalls={small},numbers={number},special chars={spec}\")\n",
    "    break\n",
    "  elif attempts<3:\n",
    "    print(\"pls try again\")\n",
    "\n",
    "  if attempts >= 3:\n",
    "    print(\"Try limit exceeded\")\n",
    "    break"
   ]
  },
  {
   "cell_type": "code",
   "execution_count": 7,
   "metadata": {},
   "outputs": [
    {
     "name": "stdout",
     "output_type": "stream",
     "text": [
      "* \n",
      "* * \n",
      "* * * \n",
      "* * * * \n"
     ]
    }
   ],
   "source": [
    "for row in range(1,5):\n",
    "    print(\"* \"*row)\n",
    "\n"
   ]
  },
  {
   "cell_type": "code",
   "execution_count": 19,
   "metadata": {},
   "outputs": [
    {
     "name": "stdout",
     "output_type": "stream",
     "text": [
      "A \n",
      "A B \n",
      "A B C \n",
      "A B C D \n"
     ]
    }
   ],
   "source": [
    "for row in range(65,69):\n",
    "    op=\"\"\n",
    "    for col in range(65,row+1):\n",
    "        op=op+chr(col)+\" \"\n",
    "    print(op)\n"
   ]
  },
  {
   "cell_type": "code",
   "execution_count": 26,
   "metadata": {},
   "outputs": [
    {
     "name": "stdout",
     "output_type": "stream",
     "text": [
      "4\n"
     ]
    }
   ],
   "source": [
    "for i in range(5):\n",
    "    pass\n",
    "print(i)"
   ]
  },
  {
   "cell_type": "code",
   "execution_count": 28,
   "metadata": {},
   "outputs": [
    {
     "name": "stdout",
     "output_type": "stream",
     "text": [
      "* * * * \n",
      "*     * \n",
      "*     * \n",
      "* * * * \n"
     ]
    }
   ],
   "source": [
    "for i in range(1,5):\n",
    "    if i== 1 or i==4:\n",
    "        print(\"* \"*4)\n",
    "    else:\n",
    "        print(\"* \"+\"  \"*2+\"* \")\n"
   ]
  },
  {
   "cell_type": "code",
   "execution_count": 41,
   "metadata": {},
   "outputs": [
    {
     "name": "stdout",
     "output_type": "stream",
     "text": [
      "A \n",
      "B \n",
      "C \n",
      "D \n"
     ]
    }
   ],
   "source": [
    "start=1\n",
    "for row in range(1,5):\n",
    "    \n",
    "    op=\"\"\n",
    "    for col in range(start,row+1):\n",
    "        op=op+chr(64+col)+\" \"\n",
    "    start=col+1\n",
    "    print(op)"
   ]
  },
  {
   "cell_type": "code",
   "execution_count": null,
   "metadata": {},
   "outputs": [],
   "source": []
  }
 ],
 "metadata": {
  "kernelspec": {
   "display_name": "Python 3",
   "language": "python",
   "name": "python3"
  },
  "language_info": {
   "codemirror_mode": {
    "name": "ipython",
    "version": 3
   },
   "file_extension": ".py",
   "mimetype": "text/x-python",
   "name": "python",
   "nbconvert_exporter": "python",
   "pygments_lexer": "ipython3",
   "version": "3.11.1"
  },
  "orig_nbformat": 4,
  "vscode": {
   "interpreter": {
    "hash": "33038eea0cd9b5c6051724c1953e0e3ff79f65fcaea6e9dca2ba4e0ebe69ec04"
   }
  }
 },
 "nbformat": 4,
 "nbformat_minor": 2
}
