{
 "cells": [
  {
   "cell_type": "code",
   "execution_count": 1,
   "metadata": {},
   "outputs": [
    {
     "ename": "ModuleNotFoundError",
     "evalue": "No module named 'psycopg2'",
     "output_type": "error",
     "traceback": [
      "\u001b[1;31m---------------------------------------------------------------------------\u001b[0m",
      "\u001b[1;31mModuleNotFoundError\u001b[0m                       Traceback (most recent call last)",
      "Cell \u001b[1;32mIn[1], line 1\u001b[0m\n\u001b[1;32m----> 1\u001b[0m \u001b[39mimport\u001b[39;00m \u001b[39mpsycopg2\u001b[39;00m\n",
      "\u001b[1;31mModuleNotFoundError\u001b[0m: No module named 'psycopg2'"
     ]
    }
   ],
   "source": [
    "import psycopg2"
   ]
  },
  {
   "cell_type": "code",
   "execution_count": 2,
   "metadata": {},
   "outputs": [
    {
     "name": "stdout",
     "output_type": "stream",
     "text": [
      "Defaulting to user installation because normal site-packages is not writeable\n",
      "Collecting psycopg2\n",
      "  Downloading psycopg2-2.9.5-cp311-cp311-win_amd64.whl (1.2 MB)\n",
      "     ---------------------------------------- 1.2/1.2 MB 360.4 kB/s eta 0:00:00\n",
      "Installing collected packages: psycopg2\n",
      "Successfully installed psycopg2-2.9.5\n",
      "Note: you may need to restart the kernel to use updated packages.\n"
     ]
    }
   ],
   "source": [
    "pip install psycopg2"
   ]
  },
  {
   "cell_type": "code",
   "execution_count": 3,
   "metadata": {},
   "outputs": [],
   "source": [
    "import psycopg2"
   ]
  },
  {
   "cell_type": "code",
   "execution_count": 4,
   "metadata": {},
   "outputs": [
    {
     "data": {
      "text/plain": [
       "'2.9.5 (dt dec pq3 ext lo64)'"
      ]
     },
     "execution_count": 4,
     "metadata": {},
     "output_type": "execute_result"
    }
   ],
   "source": [
    "psycopg2.__version__"
   ]
  },
  {
   "cell_type": "code",
   "execution_count": 7,
   "metadata": {},
   "outputs": [],
   "source": [
    "hostname='localhost'\n",
    "database='newdb'\n",
    "username='postgres'\n",
    "pwd='password'\n",
    "port_id=5432\n",
    "cur=None\n",
    "conn=None\n",
    "\n",
    "conn=psycopg2.connect(\n",
    "    host=hostname,\n",
    "    dbname=database,\n",
    "    user=username,\n",
    "    password=pwd,\n",
    "    port=port_id\n",
    ")\n"
   ]
  },
  {
   "cell_type": "code",
   "execution_count": 8,
   "metadata": {},
   "outputs": [],
   "source": [
    "conn.close()"
   ]
  },
  {
   "cell_type": "code",
   "execution_count": 16,
   "metadata": {},
   "outputs": [
    {
     "name": "stdout",
     "output_type": "stream",
     "text": [
      "(1, 'Ram', 105000, 'A10')\n",
      "(2, 'surya', 75000, 'A20')\n",
      "(3, 'ravi', 75000, 'A10')\n",
      "(4, 'nani', 112500, 'A20')\n"
     ]
    }
   ],
   "source": [
    "try:\n",
    "    conn=psycopg2.connect(\n",
    "    host=hostname,\n",
    "    dbname=database,\n",
    "    user=username,\n",
    "    password=pwd,\n",
    "    port=port_id)\n",
    "\n",
    "    cur=conn.cursor()\n",
    "\n",
    "    cur.execute('DROP TABLE IF EXISTS employee_miles')           # dropping table if alredy there\n",
    "\n",
    "    employee_miles_create_script ='''CREATE TABLE IF NOT EXISTS employee_miles (       \n",
    "                id INTEGER PRIMARY KEY,\n",
    "        name varchar(30) NOT NULL,\n",
    "        salary INTEGER,\n",
    "        dept_id varchar(30))'''                                 \n",
    "\n",
    "    cur.execute(employee_miles_create_script)                     #creating table\n",
    "\n",
    "    employee_miles_insert_script='INSERT INTO employee_miles(id,name,salary,dept_id) VALUES(%s,%s,%s,%s)'\n",
    "    employee_miles_insert_values=[(1,\"Ram\",70000,\"A10\"),(2,\"surya\",50000,\"A20\"),(3,\"ravi\",50000,\"A10\"),(4,\"nani\",75000,\"A20\")]\n",
    "\n",
    "    for record in employee_miles_insert_values:\n",
    "        cur.execute(employee_miles_insert_script,record)          #inserting records\n",
    "\n",
    "    cur.execute('UPDATE employee_miles SET salary=salary+(0.5*salary)')    #updating records\n",
    "\n",
    "    cur.execute('select * from employee_miles')                  # fetching records\n",
    "    for each_record in cur.fetchall():\n",
    "        print(each_record)\n",
    "    \n",
    "    conn.commit()\n",
    "\n",
    "except Exception as error:\n",
    "    print(error)\n",
    "\n",
    "finally:\n",
    "    if cur is not None:\n",
    "        cur.close()\n",
    "    if conn is not None:\n",
    "        conn.close()\n"
   ]
  },
  {
   "cell_type": "code",
   "execution_count": null,
   "metadata": {},
   "outputs": [],
   "source": []
  }
 ],
 "metadata": {
  "kernelspec": {
   "display_name": "Python 3",
   "language": "python",
   "name": "python3"
  },
  "language_info": {
   "codemirror_mode": {
    "name": "ipython",
    "version": 3
   },
   "file_extension": ".py",
   "mimetype": "text/x-python",
   "name": "python",
   "nbconvert_exporter": "python",
   "pygments_lexer": "ipython3",
   "version": "3.11.1 (tags/v3.11.1:a7a450f, Dec  6 2022, 19:58:39) [MSC v.1934 64 bit (AMD64)]"
  },
  "orig_nbformat": 4,
  "vscode": {
   "interpreter": {
    "hash": "5238573367df39f7286bb46f9ff5f08f63a01a80960060ce41e3c79b190280fa"
   }
  }
 },
 "nbformat": 4,
 "nbformat_minor": 2
}
