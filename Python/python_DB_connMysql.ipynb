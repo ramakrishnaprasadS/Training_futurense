{
 "cells": [
  {
   "cell_type": "code",
   "execution_count": 2,
   "metadata": {},
   "outputs": [],
   "source": [
    "#pip install mysql-connector-python\n",
    "import mysql.connector as mycon"
   ]
  },
  {
   "cell_type": "code",
   "execution_count": 7,
   "metadata": {},
   "outputs": [],
   "source": [
    "hostname='localhost'\n",
    "db='airlines3'\n",
    "username='root'\n",
    "pwd='Srkp@1811'\n",
    "port_id=3308\n",
    "cur=None\n",
    "conn=None\n",
    "\n",
    "\n",
    "\n",
    "conn=mycon.connect(\n",
    "    host=hostname,\n",
    "    database=db,\n",
    "    user=username,\n",
    "    password=pwd,\n",
    "    port=port_id\n",
    ")"
   ]
  },
  {
   "cell_type": "code",
   "execution_count": 8,
   "metadata": {},
   "outputs": [],
   "source": [
    "conn.close()"
   ]
  },
  {
   "cell_type": "code",
   "execution_count": 12,
   "metadata": {},
   "outputs": [],
   "source": [
    "import pandas as pd\n",
    "import numpy as np"
   ]
  },
  {
   "cell_type": "code",
   "execution_count": 15,
   "metadata": {},
   "outputs": [
    {
     "name": "stdout",
     "output_type": "stream",
     "text": [
      "('AMS', 'Amsterdam Airport Schiphol', 'Amsterdam', 'Netherlands')\n",
      "('ARN', 'Stockholm Arlanda Airport', 'Stockholm', 'Sweden')\n",
      "('ATL', 'Hartsfield–Jackson Atlanta International Airport', 'Atlanta', 'United States')\n",
      "('AUH', 'Abu Dhabi International Airport', 'Abu Dhabi', 'United Arab Emirates')\n",
      "('AYT', 'Antalya Airport', 'Antalya', 'Turkey')\n",
      "('BCN', 'Barcelona–El Prat Airport', 'Barcelona', 'Spain')\n",
      "('BKK', 'Suvarnabhumi Airport', 'Bangkok', 'Thailand')\n",
      "('BLR', 'Kempegowda International Airport', 'Bangalore', 'India')\n",
      "('BNE', 'Brisbane International Airport', 'Brisbane', 'Australia')\n",
      "('BOG', 'El Dorado International Airport', 'Bogota', 'Colombia')\n",
      "('BOM', 'Chhatrapati Shivaji International Airport', 'Mumbai', 'India')\n",
      "('BOS', 'Logan International Airport', 'Boston', 'United States')\n",
      "('BRU', 'Brussels Airport', 'Brussels', 'Belgium')\n",
      "('BWI', 'Washington International Thurgood Marshall Airport', 'Baltimore', 'United States')\n",
      "('CAN', 'Guangzhou Baiyun International Airport', 'Guangzhou', 'China')\n",
      "('CDG', 'Charles de Gaulle International Airport', 'Paris', 'France')\n",
      "('CGK', 'Soekarno-Hatta International Airport', 'Jakarta', 'Indonesia')\n",
      "('CGO', 'Zhengzhou Xinzheng International Airport', 'Zhengzhou', 'China')\n",
      "('CJU', 'Jeju International Airport', 'Cheju', 'South Korea')\n",
      "('CKG', 'Chongqing Jiangbei International Airport', 'Chongqing', 'China')\n",
      "('CLT', 'Charlotte Douglas International Airport', 'Charlotte', 'United States')\n",
      "('CPH', 'Copenhagen Airport', 'Copenhagen', 'Denmark')\n",
      "('CSX', 'Changsha Huanghua International Airport', 'Changcha', 'China')\n",
      "('CTU', 'Chengdu Shuangliu International Airport', 'Chengdu', 'China')\n",
      "('CUN', 'Cancún International Airport', 'Cancun', 'Mexico')\n",
      "('DCA', 'Ronald Reagan Washington National Airport', 'Washington', 'United States')\n",
      "('DEL', 'Indira Gandhi International Airport', 'Delhi', 'India')\n",
      "('DEN', 'Denver International Airport', 'Denver', 'United States')\n",
      "('DFW', 'Dallas-Fort Worth International Airport', 'Dallas', 'United States')\n",
      "('DME', 'Moscow Domodedovo Airport', 'Moscow', 'Russia')\n",
      "('DMK', 'Don Mueang International Airport', 'Bangkok', 'Thailand')\n",
      "('DOH', 'Hamad International Airport', 'Doha', 'Qatar')\n",
      "('DTW', 'Detroit Metropolitan Wayne County Airport', 'Detroit', 'United States')\n",
      "('DUB', 'Dublin Airport', 'Dublin', 'Ireland')\n",
      "('DUS', 'Düsseldorf International Airport', 'Duesseldorf', 'Germany')\n",
      "('DXB', 'Dubai International Airport', 'Dubai', 'United Arab Emirates')\n",
      "('EWR', 'Newark Liberty International Airport', 'Newark', 'United States')\n",
      "('FCO', 'Leonardo da Vinci–Fiumicino Airport', 'Rome', 'Italy')\n",
      "('FLL', 'Fort Lauderdale Hollywood International Airport', 'Fort Lauderdale', 'United States')\n",
      "('FRA', 'Frankfurt am Main International Airport', 'Frankfurt', 'Germany')\n",
      "('FUK', 'Fukuoka Airport', 'Fukuoka', 'Japan')\n",
      "('GMP', 'Gimpo International Airport', 'Seoul', 'South Korea')\n",
      "('GRU', 'São Paulo–Guarulhos International Airport', 'Sao Paulo', 'Brazil')\n",
      "('HGH', 'Hangzhou Xiaoshan International Airport', 'Hangzhou', 'China')\n",
      "('HKG', 'Hong Kong International Airport', 'Hong Kong', 'Hong Kong')\n",
      "('HND', 'Haneda Airport', 'Tokyo', 'Japan')\n",
      "('IAH', 'George Bush Intercontinental Houston Airport', 'Houston', 'United States')\n",
      "('ICN', 'Incheon International Airport', 'Seoul', 'South Korea')\n",
      "('IST', 'Istanbul Atatürk Airport', 'Istanbul', 'Turkey')\n",
      "('JED', 'King Abdulaziz International Airport', 'Jeddah', 'Saudi Arabia')\n",
      "('JFK', 'John F. Kennedy International Airport', 'New York', 'United States')\n",
      "('KIX', 'Kansai International Airport', 'Osaka', 'Japan')\n",
      "('KMG', 'Kunming Changshui International Airport', 'Kunming', 'China')\n",
      "('KUL', 'Kuala Lumpur International Airport', 'Kuala Lumpur', 'Malaysia')\n",
      "('LAS', 'McCarran International Airport', 'Las Vegas', 'United States')\n",
      "('LAX', 'Los Angeles International Airport', 'Los Angeles', 'United States')\n",
      "('LGA', 'LaGuardia Airport', 'New York', 'United States')\n",
      "('LGW', 'Gatwick Airport', 'London', 'United Kingdom')\n",
      "('LHR', 'Heathrow Airport', 'London', 'United Kingdom')\n",
      "('LIS', 'Lisbon Portela Airport', 'Lisbon', 'Portugal')\n",
      "('MAD', 'Adolfo Suárez Madrid–Barajas Airport', 'Madrid', 'Spain')\n",
      "('MAN', 'Manchester Airport', 'Manchester', 'United Kingdom')\n",
      "('MCO', 'Orlando International Airport', 'Orlando', 'United States')\n",
      "('MEL', 'Melbourne Airport', 'Melbourne', 'Australia')\n",
      "('MEX', 'Mexico City International Airport', 'Mexico City', 'Mexico')\n",
      "('MIA', 'Miami International Airport', 'Miami', 'United States')\n",
      "('MNL', 'Ninoy Aquino International Airport', 'Manila', 'Philippines')\n",
      "('MSP', 'St Paul International Airport', 'Minneapolis', 'United States')\n",
      "('MUC', 'Munich Airport', 'Munich', 'Germany')\n",
      "('NKG', 'Nanjing Lukou International Airport', 'Nanjing', 'China')\n",
      "('NRT', 'Narita International Airport', 'Tokyo', 'Japan')\n",
      "('ORD', \"O'Hare International Airport\", 'Chicago', 'United States')\n",
      "('ORL', 'Orlando Executive Airport', 'Orlando', 'United States')\n",
      "('OSL', 'Oslo Airport, Gardermoen', 'Oslo', 'Norway')\n",
      "('PEK', 'Beijing Capital International Airport', 'Beijing', 'China')\n",
      "('PHL', 'Philadelphia International Airport', 'Philadelphia', 'United States')\n",
      "('PHX', 'Phoenix Sky Harbor International Airport', 'Phoenix', 'United States')\n",
      "('PMI', 'Palma De Mallorca Airport', 'Palma de Mallorca', 'Spain')\n",
      "('PVG', 'Shanghai Pudong International Airport', 'Shanghai', 'China')\n",
      "('RUH', 'King Khaled International Airport', 'Riyadh', 'Saudi Arabia')\n",
      "('SAW', 'Sabiha Gökçen International Airport', 'Istanbul', 'Turkey')\n",
      "('SEA', 'Seattle–Tacoma International Airport', 'Seattle', 'United States')\n",
      "('SFO', 'San Francisco International Airport', 'San Francisco', 'United States')\n",
      "('SGN', 'Tan Son Nhat International Airport', 'Ho Chi Minh City', 'Vietnam')\n",
      "('SHA', 'Shanghai Hongqiao International Airport', 'Shanghai', 'China')\n",
      "('SIN', 'Singapore Changi Airport', 'Singapore', 'Singapore')\n",
      "('SLC', 'Salt Lake City International Airport', 'Salt Lake City', 'United States')\n",
      "('STN', 'London Stansted Airport', 'London', 'United Kingdom')\n",
      "('SVO', 'Sheremetyevo International Airport', 'Moscow', 'Russia')\n",
      "('SYD', 'Sydney Airport', 'Sydney', 'Australia')\n",
      "('SZX', \"Shenzhen Bao'an International Airport\", 'Shenzhen', 'China')\n",
      "('TAO', 'Liuting Airport', 'Qingdao', 'China')\n",
      "('TPE', 'Taiwan Taoyuan International Airport', 'Taipei', 'Taiwan')\n",
      "('VIE', 'Vienna International Airport', 'Vienna', 'Austria')\n",
      "('WUH', 'Wuhan Tianhe International Airport', 'Wuhan', 'China')\n",
      "('XIY', \"Xi'an Xianyang International Airport\", \"Xi'an\", 'China')\n",
      "('XMN', 'Xiamen Gaoqi International Airport', 'Xiamen', 'China')\n",
      "('YVR', 'Vancouver International Airport', 'Vancouver', 'Canada')\n",
      "('YYZ', 'Toronto Pearson International Airport', 'Toronto', 'Canada')\n",
      "('ZRH', 'Zürich Airport', 'Zurich', 'Switzerland')\n"
     ]
    }
   ],
   "source": [
    "try:\n",
    "    conn=mycon.connect(\n",
    "    host=hostname,\n",
    "    database=db,\n",
    "    user=username,\n",
    "    password=pwd,\n",
    "    port=port_id)\n",
    "\n",
    "    cur=conn.cursor()\n",
    "\n",
    "    airportsdf=pd.read_csv(\"C:\\\\Users\\\\miles\\\\Downloads\\\\Airportsf.csv\")\n",
    "\n",
    "    airport_insert_script='INSERT INTO airport(airport_code,airport_name,city,country) VALUES(%s,%s,%s,%s)'\n",
    "    airport_insert_values=airportsdf.values.tolist()\n",
    "\n",
    "    for record in airport_insert_values:\n",
    "        cur.execute(airport_insert_script,record)          #inserting records\n",
    "\n",
    "    \n",
    "    cur.execute('select * from airport')                  # fetching records\n",
    "    for each_record in cur.fetchall():\n",
    "        print(each_record)\n",
    "    \n",
    "    conn.commit()\n",
    "\n",
    "except Exception as error:\n",
    "    print(error)\n",
    "\n",
    "finally:\n",
    "    if cur is not None:\n",
    "        cur.close()\n",
    "    if conn is not None:\n",
    "        conn.close()"
   ]
  },
  {
   "cell_type": "code",
   "execution_count": 30,
   "metadata": {},
   "outputs": [
    {
     "data": {
      "text/plain": [
       "'CKG'"
      ]
     },
     "execution_count": 30,
     "metadata": {},
     "output_type": "execute_result"
    }
   ],
   "source": [
    "airport_codes=[]\n",
    "for each in airport_insert_values:\n",
    "    airport_codes.append(each[0])\n",
    "airport_codes[50]"
   ]
  },
  {
   "cell_type": "code",
   "execution_count": null,
   "metadata": {},
   "outputs": [],
   "source": [
    "'''INSERT INTO Airlines(Airlines_name,Airlines_id) values\n",
    "(\"Singapore Airlines\",\"SA\"),\n",
    "(\"Qatar Airways\",\"QA\"),\n",
    "(\"EVA Air\",\"EVA\"),\n",
    "(\"Emirates\",\"EM\"),\n",
    "(\"La Compagnie\",\"LA\"),\n",
    "(\"Turkish Airlines\",\"TA\"),\n",
    "(\"JAPAN Airlines\",\"JAL\"),\n",
    "(\"Virgin Atlantic\",\"VA\"),\n",
    "(\"Korean Air\", \"KA\"),\n",
    "(\"Air New Zealand\" ,\"ANZ\");\n",
    "\n",
    "'''"
   ]
  },
  {
   "cell_type": "code",
   "execution_count": 27,
   "metadata": {},
   "outputs": [],
   "source": [
    "max_seats={\n",
    "\"ATR 42\": 46 ,\n",
    "\"ATR 72\": 71  ,\n",
    "\"Airbus A220\": 110, \n",
    "\"Airbus A300\": 255 , \n",
    "\"Airbus A380\": 853  ,\n",
    "\"Boeing 717\": 106  ,\n",
    "\"Boeing 757\": 239  ,\n",
    "\"Boeing 767\": 181  ,\n",
    "\"Boeing 777\": 314  ,\n",
    "\"Boeing 787\": 242 ,\n",
    "\"Cessna 208\": 9 ,\n",
    "\"Cessna 404\": 10 , \n",
    "\"Convair CV5800\": 50,  \n",
    "\"Dornier 328\": 30,\n",
    "\"Embraer 170\": 82 , \n",
    "\"Embraer 175\": 78  ,\n",
    "\"Embraer 190\": 96  ,\n",
    "\"Embraer 195\": 114  ,\n",
    "\"Fokker 70\": 70,\n",
    "\"Fokker 100\": 100,  \n",
    "\"IPTN N-250\": 77 ,\n",
    "\"Piper T-1040\": 11, \n",
    "\"Short 330\": 33  ,\n",
    "\"Short 360\": 36,\n",
    "\"Saab 2000\": 52 ,\n",
    "}\n",
    "Airplanedf=[]\n",
    "for airlines_id in (\"ANZ\",\"EM\",\"EVA\",\"JAL\",\"KA\",\"LA\",\"QA\",\"SA\",\"TA\",\"VA\"):\n",
    "    for airplane_model in max_seats.keys():\n",
    "        for j in range(1,5):\n",
    "            airplane_no=airlines_id+str(max_seats[airplane_model])+str(j)\n",
    "            Airplanedf.append([airplane_no,max_seats[airplane_model],airlines_id,airplane_model])\n"
   ]
  },
  {
   "cell_type": "code",
   "execution_count": 28,
   "metadata": {},
   "outputs": [
    {
     "data": {
      "text/plain": [
       "['VA524', 52, 'VA', 'Saab 2000']"
      ]
     },
     "execution_count": 28,
     "metadata": {},
     "output_type": "execute_result"
    }
   ],
   "source": [
    "Airplanedf[999]"
   ]
  },
  {
   "cell_type": "code",
   "execution_count": 29,
   "metadata": {},
   "outputs": [],
   "source": [
    "try:\n",
    "    conn=mycon.connect(\n",
    "    host=hostname,\n",
    "    database=db,\n",
    "    user=username,\n",
    "    password=pwd,\n",
    "    port=port_id)\n",
    "\n",
    "    cur=conn.cursor()\n",
    "\n",
    "    \n",
    "\n",
    "    airplane_insert_script='INSERT INTO airplane(airplane_no,seating_capacity,airlines_id,plane_model) VALUES(%s,%s,%s,%s)'\n",
    "    airplane_insert_values=Airplanedf\n",
    "\n",
    "    for record in airplane_insert_values:\n",
    "        cur.execute(airplane_insert_script,record)          #inserting records\n",
    "\n",
    "    \n",
    "    #cur.execute('select * from airport')                  # fetching records\n",
    "    #for each_record in cur.fetchall():\n",
    "        #print(each_record)\n",
    "    \n",
    "    conn.commit()\n",
    "\n",
    "except Exception as error:\n",
    "    print(error)\n",
    "\n",
    "finally:\n",
    "    if cur is not None:\n",
    "        cur.close()\n",
    "    if conn is not None:\n",
    "        conn.close()"
   ]
  },
  {
   "cell_type": "code",
   "execution_count": 31,
   "metadata": {},
   "outputs": [
    {
     "data": {
      "text/plain": [
       "['PEK', 'ANZ503', 'True']"
      ]
     },
     "execution_count": 31,
     "metadata": {},
     "output_type": "execute_result"
    }
   ],
   "source": [
    "port_accessdf=[]\n",
    "for airplane in Airplanedf:\n",
    "    airplane_no=airplane[0]\n",
    "    for each in airport_codes:\n",
    "        port_accessdf.append([each,airplane_no,\"True\"])\n",
    "port_accessdf[5001]"
   ]
  },
  {
   "cell_type": "code",
   "execution_count": 33,
   "metadata": {},
   "outputs": [],
   "source": [
    "try:\n",
    "    conn=mycon.connect(\n",
    "    host=hostname,\n",
    "    database=db,\n",
    "    user=username,\n",
    "    password=pwd,\n",
    "    port=port_id)\n",
    "\n",
    "    cur=conn.cursor()\n",
    "\n",
    "    \n",
    "\n",
    "    plane_port_access_insert_script='INSERT INTO plane_port_access(airport_code,airplane_no,is_allowed) VALUES(%s,%s,%s)'\n",
    "    plane_port_access_insert_values=port_accessdf\n",
    "\n",
    "    for record in plane_port_access_insert_values:\n",
    "        cur.execute(plane_port_access_insert_script,record)          #inserting records\n",
    "\n",
    "    \n",
    "    #cur.execute('select * from plane_port_access')                  # fetching records\n",
    "    #for each_record in cur.fetchall():\n",
    "        #print(each_record)\n",
    "    \n",
    "    conn.commit()\n",
    "\n",
    "except Exception as error:\n",
    "    print(error)\n",
    "\n",
    "finally:\n",
    "    if cur is not None:\n",
    "        cur.close()\n",
    "    if conn is not None:\n",
    "        conn.close()"
   ]
  },
  {
   "cell_type": "code",
   "execution_count": 38,
   "metadata": {},
   "outputs": [
    {
     "name": "stdout",
     "output_type": "stream",
     "text": [
      "['ANZ1101', 'ANZ110133', 'True', 'PEC']\n"
     ]
    }
   ],
   "source": [
    "import random\n",
    "seatsdf=[]\n",
    "for airplane in Airplanedf:\n",
    "    airplane_no=airplane[0]\n",
    "    max_capacity=airplane[1]\n",
    "    for seatno in range(1,max_capacity+1):\n",
    "        seatsdf.append([airplane_no,str(airplane_no)+str(seatno),\"True\",random.choice([\"EC\",\"PEC\",\"BZ\",\"FC\",\"EC\",\"EC\",\"EC\",\"FC\",\"PEC\",\"PEC\"])])\n",
    "\n",
    "print(seatsdf[500])\n",
    "            "
   ]
  },
  {
   "cell_type": "code",
   "execution_count": 41,
   "metadata": {},
   "outputs": [],
   "source": [
    "try:\n",
    "    conn=mycon.connect(\n",
    "    host=hostname,\n",
    "    database=db,\n",
    "    user=username,\n",
    "    password=pwd,\n",
    "    port=port_id)\n",
    "\n",
    "    cur=conn.cursor()\n",
    "\n",
    "    \n",
    "\n",
    "    seat_insert_script='INSERT INTO seat(airplane_no,seat_no,availability,seat_class) VALUES(%s,%s,%s,%s)'\n",
    "    seat_insert_values=seatsdf\n",
    "\n",
    "    for record in seat_insert_values:\n",
    "        cur.execute(seat_insert_script,record)          #inserting records\n",
    "\n",
    "    \n",
    "    #cur.execute('select * from plane_port_access')                  # fetching records\n",
    "    #for each_record in cur.fetchall():\n",
    "        #print(each_record)\n",
    "    \n",
    "    conn.commit()\n",
    "\n",
    "except Exception as error:\n",
    "    print(error)\n",
    "\n",
    "finally:\n",
    "    if cur is not None:\n",
    "        cur.close()\n",
    "    if conn is not None:\n",
    "        conn.close()"
   ]
  },
  {
   "cell_type": "code",
   "execution_count": null,
   "metadata": {},
   "outputs": [],
   "source": [
    "import random\n",
    "for user_type in ['customer','agent']:\n",
    "    for user_name in "
   ]
  }
 ],
 "metadata": {
  "kernelspec": {
   "display_name": "Python 3",
   "language": "python",
   "name": "python3"
  },
  "language_info": {
   "codemirror_mode": {
    "name": "ipython",
    "version": 3
   },
   "file_extension": ".py",
   "mimetype": "text/x-python",
   "name": "python",
   "nbconvert_exporter": "python",
   "pygments_lexer": "ipython3",
   "version": "3.11.1 (tags/v3.11.1:a7a450f, Dec  6 2022, 19:58:39) [MSC v.1934 64 bit (AMD64)]"
  },
  "orig_nbformat": 4,
  "vscode": {
   "interpreter": {
    "hash": "5238573367df39f7286bb46f9ff5f08f63a01a80960060ce41e3c79b190280fa"
   }
  }
 },
 "nbformat": 4,
 "nbformat_minor": 2
}
