{
 "cells": [
  {
   "cell_type": "code",
   "execution_count": 32,
   "metadata": {},
   "outputs": [
    {
     "name": "stdout",
     "output_type": "stream",
     "text": [
      "Patient(\"ram s\",25,1425)\n"
     ]
    }
   ],
   "source": [
    "class Person:\n",
    "    def __init__(self,name,age):\n",
    "        self.name = name\n",
    "        self.age = age\n",
    "    def get_first_name(self):\n",
    "        return f'first name is {self.name.split()[0]}'\n",
    "    def get_last_name(self):\n",
    "        return f'last name is {self.name.split()[-1]}'\n",
    "    def get_age_group(self):\n",
    "        if self.age<18 and self.age>=0:\n",
    "            return \"child\"\n",
    "        elif self.age>=18 and self.age<=60:\n",
    "            return \"Adult\"\n",
    "        elif self.age>60:\n",
    "            return \"Senior citizen\"\n",
    "\n",
    "\n",
    "\n",
    "name=input(\"enter the name\")\n",
    "while True:\n",
    "    try:\n",
    "        age=int(input(\"enter proper age\"))\n",
    "        if age<0:\n",
    "            raise Exception(\"age cannot be negative\")\n",
    "        break\n",
    "    except:\n",
    "        pass\n",
    "    \n",
    "\n",
    "'''\n",
    "personObj=Person(name,age)\n",
    "print(personObj.name)\n",
    "print(personObj.age)\n",
    "print(personObj.get_first_name())\n",
    "print(personObj.get_last_name())\n",
    "print(personObj.get_age_group())'''\n",
    "\n",
    "#  Inheritance\n",
    "\n",
    "class Patient(Person):\n",
    "    def __init__(self,name,age,ssn):\n",
    "        super().__init__(name,age)\n",
    "        self.ssn = ssn\n",
    "    def description(self):\n",
    "        return \"Patient\"+\"(\\\"\"+str(self.name)+\"\\\",\"+str(self.age)+\",\"+str(self.ssn)+\")\"\n",
    "patient1=Patient(name,age,1425)\n",
    "#print(patient1.get_age_group())\n",
    "print(patient1.description())\n"
   ]
  },
  {
   "cell_type": "code",
   "execution_count": 39,
   "metadata": {},
   "outputs": [
    {
     "name": "stdout",
     "output_type": "stream",
     "text": [
      "(\"Ram S \",25,594,[95,97,92])\n"
     ]
    }
   ],
   "source": [
    "class Individual:\n",
    "    def __init__(self,fname,lname,age):\n",
    "        self.fname = fname\n",
    "        self.lname = lname\n",
    "        self.age = age\n",
    "    def getFullName(self):\n",
    "        return self.fname+\" \"+self.lname+\" \"\n",
    "\n",
    "class Student(Individual):\n",
    "    def __init__(self,fname,lname,age,reg_no,maths,science,english):\n",
    "        super().__init__(fname,lname,age)\n",
    "        self.reg_no = reg_no\n",
    "        self.maths = maths\n",
    "        self.science =science\n",
    "        self.english = english\n",
    "    def desc(self):\n",
    "        return \"(\\\"\"+self.getFullName()+\"\\\",\"+str(age)+\",\"+str(self.reg_no)+\",\"+\"[\"+str(self.maths)+\",\"+str(self.science)+\",\"+str(self.english)+\"])\"\n",
    "student1=Student(\"Ram\",\"S\",23,594,95,97,92)\n",
    "print(student1.desc())\n"
   ]
  },
  {
   "cell_type": "code",
   "execution_count": 45,
   "metadata": {},
   "outputs": [
    {
     "name": "stdout",
     "output_type": "stream",
     "text": [
      "(\"Arjun\",['english', 'Maths'])-->(['(\"ravi\",[\\'english\\'])', '(\"raju\",[\\'physics\\', \\'Biology\\'])', '(\"vani\",[\\'sanskrit\\', \\'Hindi\\'])', '(\"divya\",[\\'Maths\\'])'])\n"
     ]
    }
   ],
   "source": [
    "class Teacher:\n",
    "    def __init__(self,name,subjects):\n",
    "        self.name=name\n",
    "        self.subjects=subjects\n",
    "    def teacher_desc(self):\n",
    "        return \"(\\\"\"+str(self.name)+\"\\\",\"+str(self.subjects)+\")\"\n",
    "teacher1= Teacher(\"raghu\",[\"english\",\"Maths\"])\n",
    "class HOD(Teacher):\n",
    "    def __init__(self,name,subjects,reportees):\n",
    "        super().__init__(name,subjects)\n",
    "        self.reportees=reportees\n",
    "    def hod_desc(self):\n",
    "        hod_reportees_details=[]\n",
    "        for teacher in self.reportees:\n",
    "            hod_reportees_details.append(teacher.teacher_desc())\n",
    "        return self.teacher_desc()+\"-->\"+\"(\"+str(hod_reportees_details)+\")\"\n",
    "teacher1= Teacher(\"ravi\",[\"english\"])\n",
    "teacher2= Teacher(\"raju\",[\"physics\",\"Biology\"])\n",
    "teacher3= Teacher(\"vani\",[\"sanskrit\",\"Hindi\"])\n",
    "teacher4= Teacher(\"divya\",[\"Maths\"])\n",
    "hod1=HOD(\"Arjun\",[\"english\",\"Maths\"],[teacher1,teacher2,teacher3,teacher4])\n",
    "print(hod1.hod_desc())\n"
   ]
  },
  {
   "cell_type": "code",
   "execution_count": null,
   "metadata": {},
   "outputs": [],
   "source": [
    "# Person(name,age,address)\n",
    "# Employee(name,age,address,salary)\n",
    "# SalesEmployee(name,age,address,salary,bonus)\n",
    "# Manager(name,age,address,employees_managed)\n",
    "\n",
    "# get a readable details of all employees managed by a manager"
   ]
  },
  {
   "cell_type": "markdown",
   "metadata": {},
   "source": []
  },
  {
   "cell_type": "code",
   "execution_count": 20,
   "metadata": {},
   "outputs": [
    {
     "name": "stdout",
     "output_type": "stream",
     "text": [
      "year is invalid\n"
     ]
    }
   ],
   "source": [
    "try:\n",
    "    year=int(input(\"enter year of birth\"))\n",
    "    try:\n",
    "        month=int(input(\"enter month of birth\"))\n",
    "        try:\n",
    "            day=int(input(\"enter day of birth\"))\n",
    "            try:\n",
    "                if year<1900 or year>2023:\n",
    "                    raise Exception(\"Year must be between 1900 and 2023\")\n",
    "            except:\n",
    "                print(\"enter valid year of birth\")\n",
    "            try:\n",
    "                if month<1 or month>12:\n",
    "                    raise Exception(\"Month must be between 1 and 12\")\n",
    "            except:\n",
    "                print(\"enter valid year of birth\")\n",
    "            try:\n",
    "                if day<1 or day>31:\n",
    "                    raise Exception(\"Day must be between 1 and 31\")\n",
    "                else:\n",
    "                    print(f'date of birth is {year}-{month}-{day}')\n",
    "            except:\n",
    "                print(\"enter valid year of birth\")\n",
    "            \n",
    "            \n",
    "        except:\n",
    "            print(\"Invalid day\")\n",
    "    except:\n",
    "        print(\"month is invalid\")\n",
    "except:\n",
    "    print(\"year is invalid\")"
   ]
  },
  {
   "cell_type": "code",
   "execution_count": 23,
   "metadata": {},
   "outputs": [
    {
     "name": "stdout",
     "output_type": "stream",
     "text": [
      "Try block start\n",
      "Except block.Error has occurred\n",
      "Finally block\n"
     ]
    }
   ],
   "source": [
    "try:\n",
    "    print(\"Try block start\")\n",
    "    a=1/0\n",
    "    print(\"try block end\")\n",
    "except:\n",
    "    print(\"Except block.Error has occurred\")\n",
    "else:\n",
    "    print(\"Else block.Everything is correct\")\n",
    "finally:\n",
    "    print(\"Finally block\")"
   ]
  },
  {
   "cell_type": "code",
   "execution_count": null,
   "metadata": {},
   "outputs": [],
   "source": []
  }
 ],
 "metadata": {
  "kernelspec": {
   "display_name": "Python 3",
   "language": "python",
   "name": "python3"
  },
  "language_info": {
   "codemirror_mode": {
    "name": "ipython",
    "version": 3
   },
   "file_extension": ".py",
   "mimetype": "text/x-python",
   "name": "python",
   "nbconvert_exporter": "python",
   "pygments_lexer": "ipython3",
   "version": "3.11.1"
  },
  "orig_nbformat": 4,
  "vscode": {
   "interpreter": {
    "hash": "5238573367df39f7286bb46f9ff5f08f63a01a80960060ce41e3c79b190280fa"
   }
  }
 },
 "nbformat": 4,
 "nbformat_minor": 2
}
