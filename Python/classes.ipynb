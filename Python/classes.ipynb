{
 "cells": [
  {
   "attachments": {},
   "cell_type": "markdown",
   "metadata": {},
   "source": [
    "--> instance variables or methods inside class should be accessed with self keyword, and outside class should be accessed with objectname\n",
    "--> class variables or methods inside class should be accessed with class name , and outside class should also be accessed with class name"
   ]
  },
  {
   "cell_type": "code",
   "execution_count": 1,
   "metadata": {},
   "outputs": [
    {
     "name": "stdout",
     "output_type": "stream",
     "text": [
      "calling..9666112617\n"
     ]
    }
   ],
   "source": [
    "class Mobile:\n",
    "    model=\"Apple iphone\"\n",
    "    def __init__(self, model, camera):\n",
    "        self.model = model\n",
    "        self.camera= camera\n",
    "    def make_call(self,number):\n",
    "        return f'calling..{number}'\n",
    "\n",
    "mobile_obj = Mobile(\n",
    "    \"iPhone 12 Pro\",\n",
    "    \"12 MP\")\n",
    "print(mobile_obj.make_call(9666112617))"
   ]
  },
  {
   "cell_type": "code",
   "execution_count": 2,
   "metadata": {},
   "outputs": [
    {
     "name": "stdout",
     "output_type": "stream",
     "text": [
      "31500\n",
      "['book']\n",
      "1000\n"
     ]
    }
   ],
   "source": [
    "class Cart:\n",
    "    def __init__(self):\n",
    "        self.items = {}\n",
    "        self.price_details = {\"book\": 500, \"laptop\": 30000}\n",
    "\n",
    "    def add_item(self, item_name, quantity):\n",
    "        self.items[item_name] = quantity\n",
    "\n",
    "    def remove_item(self, item_name):\n",
    "        del self.items[item_name]\n",
    "\n",
    "    def update_quantity(self, item_name, quantity):\n",
    "        self.items[item_name] = quantity\n",
    "\n",
    "    def get_cart_items(self):\n",
    "        cart_items = list(self.items.keys())\n",
    "        return cart_items\n",
    "\n",
    "    def get_total_price(self):\n",
    "        total_price = 0\n",
    "        for item, quantity in self.items.items():\n",
    "            total_price += quantity * self.price_details[item]\n",
    "        return total_price\n",
    "\n",
    "\n",
    "cart_obj = Cart()\n",
    "cart_obj.add_item(\"book\", 3)\n",
    "cart_obj.add_item(\"laptop\", 1)\n",
    "print(cart_obj.get_total_price())\n",
    "cart_obj.remove_item(\"laptop\")\n",
    "print(cart_obj.get_cart_items())\n",
    "cart_obj.update_quantity(\"book\", 2)\n",
    "print(cart_obj.get_total_price())"
   ]
  },
  {
   "cell_type": "code",
   "execution_count": 3,
   "metadata": {},
   "outputs": [
    {
     "name": "stdout",
     "output_type": "stream",
     "text": [
      "100\n"
     ]
    }
   ],
   "source": [
    "class Cart:\n",
    "   flat_discount = 0\n",
    "   min_bill = 100\n",
    "   def print_min_bill(self):\n",
    "       print(Cart.min_bill)\n",
    "a = Cart()\n",
    "a.print_min_bill()"
   ]
  },
  {
   "cell_type": "code",
   "execution_count": 4,
   "metadata": {},
   "outputs": [
    {
     "name": "stdout",
     "output_type": "stream",
     "text": [
      "25\n",
      "25\n"
     ]
    }
   ],
   "source": [
    "class Cart:\n",
    "   flat_discount = 0\n",
    "   min_bill = 100\n",
    "   \n",
    "   def update_flat_discount(new_flat_discount):\n",
    "       Cart.flat_discount = new_flat_discount\n",
    "\n",
    "Cart.update_flat_discount(25)\n",
    "print(Cart.flat_discount)\n",
    "\n",
    "# above can also be acheived as follows:\n",
    "\n",
    "class Cart:\n",
    "   flat_discount = 0\n",
    "   min_bill = 100\n",
    "   @classmethod\n",
    "   def update_flat_discount(cls, \n",
    "                          new_flat_discount):\n",
    "       cls.flat_discount = new_flat_discount\n",
    "\n",
    "Cart.update_flat_discount(25)\n",
    "print(Cart.flat_discount)"
   ]
  },
  {
   "cell_type": "code",
   "execution_count": 5,
   "metadata": {},
   "outputs": [
    {
     "name": "stdout",
     "output_type": "stream",
     "text": [
      "Product: TV\n",
      "Price: 45000\n",
      "Deal Price: 40000\n",
      "You Saved: 5000\n",
      "Ratings: 3.5\n",
      "Warranty 24 months\n"
     ]
    }
   ],
   "source": [
    "# Inheritance\n",
    "#Prefer modeling with inheritance when the classes have an IS-A relationship. \n",
    "class Product:\n",
    "   def __init__(self, name, price, deal_price, ratings):\n",
    "       self.name = name\n",
    "       self.price = price\n",
    "       self.deal_price = deal_price\n",
    "       self.ratings = ratings\n",
    "       self.you_save = price - deal_price\n",
    "   def display_product_details(self):\n",
    "       print(\"Product: {}\".format(self.name))\n",
    "       print(\"Price: {}\".format(self.price))\n",
    "       print(\"Deal Price: {}\".format(self.deal_price))\n",
    "       print(\"You Saved: {}\".format(self.you_save))\n",
    "       print(\"Ratings: {}\".format(self.ratings))\n",
    "\n",
    "class ElectronicItem(Product):\n",
    "   def set_warranty(self, warranty_in_months):\n",
    "       self.warranty_in_months = warranty_in_months\n",
    "      \n",
    "   def get_warranty(self):\n",
    "       return self.warranty_in_months\n",
    "   \n",
    "   def display_electronic_product_details(self):\n",
    "       self.display_product_details()\n",
    "       print(\"Warranty {} months\".format(self.warranty_in_months))\n",
    "\n",
    "e = ElectronicItem(\"TV\",45000, 40000, 3.5)\n",
    "e.set_warranty(24)\n",
    "e.display_electronic_product_details()"
   ]
  },
  {
   "cell_type": "code",
   "execution_count": 6,
   "metadata": {},
   "outputs": [
    {
     "name": "stdout",
     "output_type": "stream",
     "text": [
      "Product: Milk\n",
      "Price: 40\n",
      "Deal Price: 25\n",
      "You Saved: 15\n",
      "Ratings: 3.5\n",
      "Quantity: 2\n",
      "Product: TV\n",
      "Price: 45000\n",
      "Deal Price: 40000\n",
      "You Saved: 5000\n",
      "Ratings: 3.5\n",
      "Quantity: 1\n",
      "Total Bill: 40050\n"
     ]
    }
   ],
   "source": [
    "# composition --> passing the instances of one class as attributes to other class\n",
    "#Prefer modeling with inheritance when the classes have an HAS-A relationship.\n",
    "\n",
    "\n",
    "class Product:\n",
    "  \n",
    "    def __init__(self, name, price, deal_price, ratings):\n",
    "       self.name = name\n",
    "       self.price = price\n",
    "       self.deal_price = deal_price\n",
    "       self.ratings = ratings\n",
    "       self.you_save = price - deal_price\n",
    "\n",
    "    def display_product_details(self):\n",
    "           print(\"Product: {}\".format(self.name))\n",
    "           print(\"Price: {}\".format(self.price))\n",
    "           print(\"Deal Price: {}\".format(self.deal_price))\n",
    "           print(\"You Saved: {}\".format(self.you_save))\n",
    "           print(\"Ratings: {}\".format(self.ratings))\n",
    "    \n",
    "    def get_deal_price(self):\n",
    "        return self.deal_price\n",
    "\n",
    "class ElectronicItem(Product):\n",
    "   def set_warranty(self, warranty_in_months):\n",
    "       self.warranty_in_months = warranty_in_months\n",
    "      \n",
    "   def get_warranty(self):\n",
    "       return self.warranty_in_months\n",
    "\n",
    "class GroceryItem(Product):\n",
    "    pass\n",
    "   \n",
    "class Order:\n",
    "    def __init__(self, delivery_speed, delivery_address):\n",
    "         self.items_in_cart = []\n",
    "         self.delivery_speed = delivery_speed\n",
    "         self.delivery_address = delivery_address \n",
    "         \n",
    "    def add_item(self, product, quantity):\n",
    "        self.items_in_cart.append((product, quantity))\n",
    "\n",
    "    def display_order_details(self):\n",
    "        for product, quantity in self.items_in_cart:\n",
    "            product.display_product_details()\n",
    "            print(\"Quantity: {}\".format(quantity))\n",
    "          \n",
    "    def display_total_bill(self):\n",
    "        total_bill = 0\n",
    "        for product, quantity in self.items_in_cart:\n",
    "             price = product.get_deal_price() * quantity\n",
    "             total_bill += price\n",
    "        print(\"Total Bill: {}\".format(total_bill))\n",
    "\n",
    "milk = GroceryItem(\"Milk\",40, 25, 3.5)\n",
    "tv = ElectronicItem(\"TV\",45000, 40000, 3.5)\n",
    "order = Order(\"Prime Delivery\", \"Hyderabad\")\n",
    "order.add_item(milk, 2)\n",
    "order.add_item(tv, 1)\n",
    "order.display_order_details()\n",
    "order.display_total_bill()"
   ]
  },
  {
   "cell_type": "code",
   "execution_count": null,
   "metadata": {},
   "outputs": [],
   "source": [
    "# overriding\n",
    "class Product:\n",
    "  \n",
    "  def __init__(self, name, price, deal_price, ratings):\n",
    "    self.name = name\n",
    "    self.price = price\n",
    "    self.deal_price = deal_price\n",
    "    self.ratings = ratings\n",
    "    self.you_save = price - deal_price\n",
    "\n",
    "  def display_product_details(self):\n",
    "      print(\"Product: {}\".format(self.name))\n",
    "      print(\"Price: {}\".format(self.price))\n",
    "      print(\"Deal Price: {}\".format(self.deal_price))\n",
    "      print(\"You Saved: {}\".format(self.you_save))\n",
    "      print(\"Ratings: {}\".format(self.ratings))\n",
    "   \n",
    "  def get_deal_price(self):\n",
    "    return self.deal_price\n",
    "\n",
    "class ElectronicItem(Product):\n",
    "   \n",
    "  def display_product_details(self):             # recursion error max depth----as the function is called fro the same sub class repeatedly...\n",
    "    #self.display_product_details()               #aim is to get it called from super class--> so use super().display_product_details()\n",
    "    print(\"Warranty {} months\".format(self.warranty_in_months))\n",
    "    \n",
    "  def set_warranty(self, warranty_in_months):\n",
    "    self.warranty_in_months = warranty_in_months\n",
    "    \n",
    "  def get_warranty(self):\n",
    "    return self.warranty_in_months\n",
    "\n",
    "e = ElectronicItem(\"Laptop\",45000, 40000,3.5)\n",
    "e.set_warranty(10)\n",
    "e.display_product_details()"
   ]
  },
  {
   "cell_type": "code",
   "execution_count": 4,
   "metadata": {},
   "outputs": [
    {
     "name": "stdout",
     "output_type": "stream",
     "text": [
      "this studenthobbies class\n",
      "this student class\n"
     ]
    },
    {
     "data": {
      "text/plain": [
       "'hi '"
      ]
     },
     "execution_count": 4,
     "metadata": {},
     "output_type": "execute_result"
    }
   ],
   "source": [
    "#polymorphism--->method overriding \n",
    "#method overloading -->same method name diff arguments--------->python do not support method overloading\n",
    "\n",
    "#\"a\"+\"b\"\n",
    "#3+4\n",
    "\n",
    "class Student:\n",
    "    def student_info(self):\n",
    "        print(\"this student class\")\n",
    "class Studenthobbies(Student):\n",
    "    def student_info(self):\n",
    "        print(\"this studenthobbies class\")\n",
    "        super().student_info()\n",
    "    def __str__(self):\n",
    "        return \"hi \".format(\"ram\")\n",
    "sh1=Studenthobbies()\n",
    "sh1.student_info()\n",
    "sh1.__str__()\n",
    "\n",
    "\n"
   ]
  },
  {
   "cell_type": "code",
   "execution_count": 24,
   "metadata": {},
   "outputs": [
    {
     "name": "stdout",
     "output_type": "stream",
     "text": [
      "the data is 10 ..20 \n",
      "the data is 10 ..20 \n",
      "the data is 15 ..17 \n",
      "the data is 15 ..17 \n",
      "True\n",
      "True\n"
     ]
    }
   ],
   "source": [
    "#operator overloading-->\n",
    "\n",
    "class Futerense:\n",
    "    def __init__(self,num1,num2):\n",
    "        self.num1 = num1\n",
    "        self.num2 = num2\n",
    "    def __str__(self):\n",
    "        return \"the data is {} ..{} \".format(self.num1,self.num2)\n",
    "    def __add__(self,other):\n",
    "        x=self.num1 + other.num1\n",
    "        y=self.num1 + other.num2\n",
    "        return Futerense(x,y)\n",
    "    def __gt__(self,other):\n",
    "        if self.num1**2 + other.num1**2 > self.num2**2 + other.num2**2:\n",
    "            return False\n",
    "        else:\n",
    "            return True\n",
    "f1=Futerense(10,20)\n",
    "f2=Futerense(5,7)\n",
    "print(f1.__str__())\n",
    "print(f1)             # -->it would not work if we havent declared a __str__\n",
    "print(f1.__add__(f2))\n",
    "print(f1+f2)       #--->it would not work if we havent declared  __add__\n",
    "print(f1.__gt__(f2)) \n",
    "print(f1>f2)       #--->it would not work if we havent declared  __gt__\n",
    "\n",
    "\n"
   ]
  },
  {
   "cell_type": "code",
   "execution_count": 33,
   "metadata": {},
   "outputs": [
    {
     "name": "stdout",
     "output_type": "stream",
     "text": [
      "1000\n",
      "Ram\n",
      "23\n",
      "23\n"
     ]
    }
   ],
   "source": [
    "# Encapsulation ---binding data and methods together\n",
    "\n",
    "#--No specific access modifiers in python.......for developers understanding purpose we use notations\n",
    "\n",
    "\n",
    "\n",
    "class Trainer:\n",
    "    salary=1000   #public\n",
    "    _name=\"Ram\"   #protected\n",
    "    __age=23      #private\n",
    "\n",
    "\n",
    "class Learners(Trainer):\n",
    "    pass\n",
    "t1=Trainer()\n",
    "l1=Learners()\n",
    "\n",
    "print(l1.salary)\n",
    "print(l1._name)\n",
    "#print(t1.__age)  --->cannot be acessed\n",
    "#print(l1.__age)  -->cannot be accessed \n",
    "#print(dir(Trainer))\n",
    "print(l1._Trainer__age)\n",
    "print(t1._Trainer__age)\n",
    "\n"
   ]
  },
  {
   "cell_type": "code",
   "execution_count": 32,
   "metadata": {},
   "outputs": [
    {
     "name": "stdout",
     "output_type": "stream",
     "text": [
      "Patient(\"ram s\",25,1425)\n"
     ]
    }
   ],
   "source": [
    "class Person:\n",
    "    def __init__(self,name,age):\n",
    "        self.name = name\n",
    "        self.age = age\n",
    "    def get_first_name(self):\n",
    "        return f'first name is {self.name.split()[0]}'\n",
    "    def get_last_name(self):\n",
    "        return f'last name is {self.name.split()[-1]}'\n",
    "    def get_age_group(self):\n",
    "        if self.age<18 and self.age>=0:\n",
    "            return \"child\"\n",
    "        elif self.age>=18 and self.age<=60:\n",
    "            return \"Adult\"\n",
    "        elif self.age>60:\n",
    "            return \"Senior citizen\"\n",
    "\n",
    "\n",
    "\n",
    "name=input(\"enter the name\")\n",
    "while True:\n",
    "    try:\n",
    "        age=int(input(\"enter proper age\"))\n",
    "        if age<0:\n",
    "            raise Exception(\"age cannot be negative\")\n",
    "        break\n",
    "    except:\n",
    "        pass\n",
    "    \n",
    "\n",
    "'''\n",
    "personObj=Person(name,age)\n",
    "print(personObj.name)\n",
    "print(personObj.age)\n",
    "print(personObj.get_first_name())\n",
    "print(personObj.get_last_name())\n",
    "print(personObj.get_age_group())'''\n",
    "\n",
    "#  Inheritance\n",
    "\n",
    "class Patient(Person):\n",
    "    def __init__(self,name,age,ssn):\n",
    "        super().__init__(name,age)\n",
    "        self.ssn = ssn\n",
    "    def description(self):\n",
    "        return \"Patient\"+\"(\\\"\"+str(self.name)+\"\\\",\"+str(self.age)+\",\"+str(self.ssn)+\")\"\n",
    "patient1=Patient(name,age,1425)\n",
    "#print(patient1.get_age_group())\n",
    "print(patient1.description())\n"
   ]
  },
  {
   "cell_type": "code",
   "execution_count": 39,
   "metadata": {},
   "outputs": [
    {
     "name": "stdout",
     "output_type": "stream",
     "text": [
      "(\"Ram S \",25,594,[95,97,92])\n"
     ]
    }
   ],
   "source": [
    "class Individual:\n",
    "    def __init__(self,fname,lname,age):\n",
    "        self.fname = fname\n",
    "        self.lname = lname\n",
    "        self.age = age\n",
    "    def getFullName(self):\n",
    "        return self.fname+\" \"+self.lname+\" \"\n",
    "\n",
    "class Student(Individual):\n",
    "    def __init__(self,fname,lname,age,reg_no,maths,science,english):\n",
    "        super().__init__(fname,lname,age)\n",
    "        self.reg_no = reg_no\n",
    "        self.maths = maths\n",
    "        self.science =science\n",
    "        self.english = english\n",
    "    def desc(self):\n",
    "        return \"(\\\"\"+self.getFullName()+\"\\\",\"+str(age)+\",\"+str(self.reg_no)+\",\"+\"[\"+str(self.maths)+\",\"+str(self.science)+\",\"+str(self.english)+\"])\"\n",
    "student1=Student(\"Ram\",\"S\",23,594,95,97,92)\n",
    "print(student1.desc())\n"
   ]
  },
  {
   "cell_type": "code",
   "execution_count": 3,
   "metadata": {},
   "outputs": [
    {
     "name": "stdout",
     "output_type": "stream",
     "text": [
      "(\"Arjun\",['english', 'Maths'])-->(['(\"ravi\",[\\'english\\'])', '(\"raju\",[\\'physics\\', \\'Biology\\'])', '(\"vani\",[\\'sanskrit\\', \\'Hindi\\'])', '(\"divya\",[\\'Maths\\'])'])\n"
     ]
    }
   ],
   "source": [
    "class Teacher:\n",
    "    def __init__(self,name,subjects):\n",
    "        self.name=name\n",
    "        self.subjects=subjects\n",
    "    def teacher_desc(self):\n",
    "        return \"(\\\"\"+str(self.name)+\"\\\",\"+str(self.subjects)+\")\"\n",
    "\n",
    "# teacher1= Teacher(\"raghu\",[\"english\",\"Maths\"])\n",
    "\n",
    "class HOD(Teacher):\n",
    "    \n",
    "    def __init__(self,name,subjects,reportees):\n",
    "        super().__init__(name,subjects)\n",
    "        self.reportees=reportees\n",
    "\n",
    "    def hod_desc(self):\n",
    "        hod_reportees_details=[]\n",
    "        for teacher in self.reportees:\n",
    "            hod_reportees_details.append(teacher.teacher_desc())\n",
    "        return self.teacher_desc()+\"-->\"+\"(\"+str(hod_reportees_details)+\")\"\n",
    "\n",
    "teacher1= Teacher(\"ravi\",[\"english\"])\n",
    "teacher2= Teacher(\"raju\",[\"physics\",\"Biology\"])\n",
    "teacher3= Teacher(\"vani\",[\"sanskrit\",\"Hindi\"])\n",
    "teacher4= Teacher(\"divya\",[\"Maths\"])\n",
    "\n",
    "hod1=HOD(\"Arjun\",[\"english\",\"Maths\"],[teacher1,teacher2,teacher3,teacher4])\n",
    "print(hod1.hod_desc())\n"
   ]
  },
  {
   "cell_type": "code",
   "execution_count": 10,
   "metadata": {},
   "outputs": [
    {
     "name": "stdout",
     "output_type": "stream",
     "text": [
      "Manager name:Asha,\n",
      "age:35,\n",
      "address:Chennai,\n",
      "employees_managed:['name:ram,age:23,address:Guntur,salary:70000', 'name:ravi,age:25,address:Ongole,salary:50000', 'name:hari,age:30,address:Hyderabad,salary:60000,bonus:10000', 'name:Abhinav,age:18,address:nellore,salary:45000,bonus:7000']\n"
     ]
    }
   ],
   "source": [
    "# Person(name,age,address)\n",
    "# Employee(name,age,address,salary)\n",
    "# SalesEmployee(name,age,address,salary,bonus)\n",
    "# Manager(name,age,address,employees_managed)\n",
    "\n",
    "# get a readable details of all employees managed by a manager\n",
    "\n",
    "class Person:\n",
    "    def __init__(self,name,age,address):\n",
    "        self.name = name\n",
    "        self.age = age\n",
    "        self.address = address\n",
    "    def person_desc(self):\n",
    "        return 'name:{} age:{} address:{}'.format(self.name,self.age,self.address)\n",
    "class Employee(Person):\n",
    "    def __init__(self,name,age,address,salary):\n",
    "        super().__init__(name,age,address)\n",
    "        self.salary = salary\n",
    "    def employee_desc(self):\n",
    "        return 'name:{},age:{},address:{},salary:{}'.format(self.name,self.age,self.address,self.salary)\n",
    "class SalesEmployee(Employee):\n",
    "    def __init__(self,name,age,address,salary,bonus):\n",
    "        super().__init__(name,age,address,salary)\n",
    "        self.bonus=bonus\n",
    "    def employee_desc(self):\n",
    "        return 'name:{},age:{},address:{},salary:{},bonus:{}'.format(self.name,self.age,self.address,self.salary,self.bonus)\n",
    "class Manager(Person):\n",
    "    def __init__(self,name,age,address,employees_managed):\n",
    "        super().__init__(name,age,address)\n",
    "        self.employees_managed=employees_managed\n",
    "    def manager_desc(self):\n",
    "        description=[]\n",
    "        for each in self.employees_managed:\n",
    "            description.append(each.employee_desc())\n",
    "        return 'Manager name:{},\\nage:{},\\naddress:{},\\nemployees_managed:{}'.format(self.name,self.age,self.address,description)\n",
    "emp1=Employee(\"ram\",23,\"Guntur\",70000)\n",
    "emp2=Employee(\"ravi\",25,\"Ongole\",50000)\n",
    "emp3=SalesEmployee(\"hari\",30,\"Hyderabad\",60000,10000)\n",
    "emp4=SalesEmployee(\"Abhinav\",18,\"nellore\",45000,7000)\n",
    "manager1=Manager(\"Asha\",35,\"Chennai\",[emp1,emp2,emp3,emp4])\n",
    "print(manager1.manager_desc())\n",
    "\n",
    "\n",
    "\n"
   ]
  },
  {
   "cell_type": "markdown",
   "metadata": {},
   "source": []
  },
  {
   "cell_type": "code",
   "execution_count": 39,
   "metadata": {},
   "outputs": [
    {
     "name": "stdout",
     "output_type": "stream",
     "text": [
      "tested\n",
      "hi user\n"
     ]
    }
   ],
   "source": [
    "# abstarct mathod --> a method whoose implementation details needs to be provided by child class\n",
    "\n",
    "#The abc module defines ABCMeta class which is a metaclass for defining abstract base class.\n",
    "\n",
    "from abc import ABC,abstractmethod\n",
    "# abstract class\n",
    "class Department(ABC):\n",
    "    salary=1000\n",
    "    @abstractmethod\n",
    "    def department_info(self):\n",
    "        pass\n",
    "    def test(self):\n",
    "        print(\"tested\")\n",
    "    \n",
    "class Marketing_department(Department):\n",
    "    salary=2000\n",
    "    def department_info(self):    # necessary to declare here as this is an abstract method of parent class\n",
    "        print(\"hi user\")\n",
    "\n",
    "class hr(Marketing_department):\n",
    "    pass\n",
    "\n",
    "# we should first create object for child class of abstract class other wise type error will be thrown\n",
    "md1=Marketing_department()\n",
    "md1.test()\n",
    "hr1=hr()\n",
    "hr1.department_info()\n"
   ]
  },
  {
   "cell_type": "code",
   "execution_count": 20,
   "metadata": {},
   "outputs": [
    {
     "name": "stdout",
     "output_type": "stream",
     "text": [
      "year is invalid\n"
     ]
    }
   ],
   "source": [
    "try:\n",
    "    year=int(input(\"enter year of birth\"))\n",
    "    try:\n",
    "        month=int(input(\"enter month of birth\"))\n",
    "        try:\n",
    "            day=int(input(\"enter day of birth\"))\n",
    "            try:\n",
    "                if year<1900 or year>2023:\n",
    "                    raise Exception(\"Year must be between 1900 and 2023\")\n",
    "            except:\n",
    "                print(\"enter valid year of birth\")\n",
    "            try:\n",
    "                if month<1 or month>12:\n",
    "                    raise Exception(\"Month must be between 1 and 12\")\n",
    "            except:\n",
    "                print(\"enter valid year of birth\")\n",
    "            try:\n",
    "                if day<1 or day>31:\n",
    "                    raise Exception(\"Day must be between 1 and 31\")\n",
    "                else:\n",
    "                    print(f'date of birth is {year}-{month}-{day}')\n",
    "            except:\n",
    "                print(\"enter valid year of birth\")\n",
    "            \n",
    "            \n",
    "        except:\n",
    "            print(\"Invalid day\")\n",
    "    except:\n",
    "        print(\"month is invalid\")\n",
    "except:\n",
    "    print(\"year is invalid\")"
   ]
  },
  {
   "cell_type": "code",
   "execution_count": 23,
   "metadata": {},
   "outputs": [
    {
     "name": "stdout",
     "output_type": "stream",
     "text": [
      "Try block start\n",
      "Except block.Error has occurred\n",
      "Finally block\n"
     ]
    }
   ],
   "source": [
    "try:\n",
    "    print(\"Try block start\")\n",
    "    a=1/0\n",
    "    print(\"try block end\")\n",
    "except:\n",
    "    print(\"Except block.Error has occurred\")\n",
    "else:\n",
    "    print(\"Else block.Everything is correct\")\n",
    "finally:\n",
    "    print(\"Finally block\")"
   ]
  },
  {
   "cell_type": "code",
   "execution_count": 14,
   "metadata": {},
   "outputs": [
    {
     "name": "stdout",
     "output_type": "stream",
     "text": [
      "Rodger is a mammal\n",
      "Tommy is also a mammal\n",
      "My name is Rodger\n",
      "My name is Tommy\n"
     ]
    }
   ],
   "source": [
    "class Dog:\n",
    "\n",
    "\t# class attribute\n",
    "\tattr1 = \"mammal\"\n",
    "\n",
    "\t# Instance attribute\n",
    "\tdef __init__(self, name):\n",
    "\t\tself.name = name\n",
    "\n",
    "# Driver code\n",
    "# Object instantiation\n",
    "Rodger = Dog(\"Rodger\")\n",
    "Tommy = Dog(\"Tommy\")\n",
    "\n",
    "# Accessing class attributes\n",
    "print(\"Rodger is a {}\".format(Rodger.attr1))\n",
    "print(\"Tommy is also a {}\".format(Tommy.__class__.attr1))\n",
    "\n",
    "# Accessing instance attributes\n",
    "print(\"My name is {}\".format(Rodger.name))\n",
    "print(\"My name is {}\".format(Tommy.name))"
   ]
  },
  {
   "cell_type": "code",
   "execution_count": 8,
   "metadata": {},
   "outputs": [
    {
     "name": "stdout",
     "output_type": "stream",
     "text": [
      "Rama Krishna Sivangula is a customer.\n",
      "phone number is : 9666112617\n",
      "email is : ram@gmail.com\n"
     ]
    }
   ],
   "source": [
    "class Customer:\n",
    "    def __init__(self,id,firstname,lastname,email,phone):\n",
    "        self.id = id\n",
    "        self.firstname = firstname\n",
    "        self.lastname = lastname\n",
    "        self.email = email\n",
    "        self.phone = phone\n",
    "    def GetCustomerFullName(self):\n",
    "        return self.firstname+\" \"+self.lastname\n",
    "    def GetCustomerPhone(self):\n",
    "        return self.phone\n",
    "    def GetCustomerEmail(self):\n",
    "        return self.email\n",
    "cust1=Customer(1,\"Ram\",\"Sivangula\",\"ram@gmail.com\",9666112617)\n",
    "cust2=Customer(2,\"hari\",\"sayana\",\"hari@gmail.com\",9777112617)\n",
    "cust3=Customer(3,\"sekhar\",\"Yalla\",\"Sekhar@gmail.com\",9888112617)\n",
    "customers=[cust1,cust2,cust3]\n",
    "def check_customer(argument):\n",
    "    f=0\n",
    "    for each in customers:\n",
    "        if argument==each.firstname or argument==each.phone or argument==each.email:\n",
    "            f=1\n",
    "            return \"{} is a customer.\\nphone number is : {}\\nemail is : {}\".format(each.GetCustomerFullName(), each.GetCustomerPhone(),each.GetCustomerEmail())\n",
    "    if f==0:\n",
    "        return argument+\" is not a customer\"\n",
    "cust1.firstname=\"Rama Krishna\"\n",
    "\n",
    "print(check_customer(\"Rama Krishna\"))\n",
    "\n",
    "\n",
    "        \n",
    "\n",
    "\n"
   ]
  },
  {
   "cell_type": "code",
   "execution_count": null,
   "metadata": {},
   "outputs": [],
   "source": []
  },
  {
   "cell_type": "code",
   "execution_count": 6,
   "metadata": {},
   "outputs": [
    {
     "name": "stdout",
     "output_type": "stream",
     "text": [
      "Apple\n",
      "Orange\n",
      "Summer\n",
      "Summer\n",
      "Winter\n"
     ]
    }
   ],
   "source": [
    "class Fruit:\n",
    "    \n",
    "    season=\"Summer\"\n",
    "    def set_name(self,fruit_name):\n",
    "        self.__name=fruit_name\n",
    "    \n",
    "    \n",
    "    def set_color(self,fruit_color):\n",
    "        self.__color = fruit_color\n",
    "\n",
    "    def get_name(self):\n",
    "        return self.__name\n",
    "    \n",
    "    \n",
    "    def get_color(self):\n",
    "        return self.__color\n",
    "\n",
    "fruit1=Fruit()\n",
    "fruit2=Fruit()\n",
    "fruit1.set_name(\"Apple\")\n",
    "print(fruit1.get_name())\n",
    "fruit1.set_name(\"Orange\")\n",
    "print(fruit1.get_name())\n",
    "print(fruit1.season)\n",
    "fruit1.season=\"Winter\"\n",
    "print(fruit2.season)\n",
    "print(fruit1.season)\n",
    "    \n",
    "    \n",
    "\n"
   ]
  },
  {
   "cell_type": "code",
   "execution_count": 48,
   "metadata": {},
   "outputs": [
    {
     "name": "stdout",
     "output_type": "stream",
     "text": [
      "hari sayana is a customer.\n",
      "phone number is : 9777112617\n",
      "email is : hari@gmail.com\n"
     ]
    }
   ],
   "source": [
    "class Customer:\n",
    "    def __init__(self,id,firstname,lastname,email,phone):\n",
    "        self.id = id\n",
    "        self.firstname = firstname\n",
    "        self.lastname = lastname\n",
    "        self.email = email\n",
    "        self.phone = phone\n",
    "    def GetCustomerFullName(self):\n",
    "        return self.firstname+\" \"+self.lastname\n",
    "    def GetCustomerPhone(self):\n",
    "        return self.phone\n",
    "    def GetCustomerEmail(self):\n",
    "        return self.email\n",
    "    def check_customer(self,customers,argument):\n",
    "        f=0\n",
    "        for each in customers:\n",
    "            if argument==each.firstname or argument==each.phone or argument==each.email:\n",
    "                f=1\n",
    "                return \"{} is a customer.\\nphone number is : {}\\nemail is : {}\".format(each.GetCustomerFullName(), each.GetCustomerPhone(),each.GetCustomerEmail())\n",
    "        if f==0:\n",
    "            return argument+\" is not a customer\"\n",
    "    \n",
    "cust1=Customer(1,\"Ram\",\"Sivangula\",\"ram@gmail.com\",9666112617)\n",
    "cust2=Customer(2,\"hari\",\"sayana\",\"hari@gmail.com\",9777112617)\n",
    "cust3=Customer(3,\"sekhar\",\"Yalla\",\"Sekhar@gmail.com\",9888112617)\n",
    "customers=[cust1,cust2,cust3]\n",
    "print(cust1.check_customer(customers,\"hari@gmail.com\"))"
   ]
  },
  {
   "cell_type": "code",
   "execution_count": 30,
   "metadata": {},
   "outputs": [
    {
     "name": "stdout",
     "output_type": "stream",
     "text": [
      "Hey\n",
      "<__main__.Futurense object at 0x000001D28036F410>\n",
      "Hey\n",
      "<__main__.Futurense object at 0x000001D2802465D0>\n"
     ]
    }
   ],
   "source": [
    "class Futurense:\n",
    "    \n",
    "    def __init__(self,id,name):\n",
    "        print(\"Hey\")\n",
    "        self.id = id\n",
    "        self.name = name\n",
    "        print(self)\n",
    "f1=Futurense(594,\"Ram\")  # objects are stored in heap memory\n",
    "f2=Futurense(595,\"novil\")"
   ]
  },
  {
   "cell_type": "code",
   "execution_count": 32,
   "metadata": {},
   "outputs": [
    {
     "name": "stdout",
     "output_type": "stream",
     "text": [
      "594 Ram\n"
     ]
    }
   ],
   "source": [
    "#f.id=80\n",
    "#Futurense.id=90\n",
    "print(f1.id,f1.name)\n",
    "#print(Futurense.id,Futurense.name)"
   ]
  },
  {
   "cell_type": "code",
   "execution_count": null,
   "metadata": {},
   "outputs": [],
   "source": []
  },
  {
   "cell_type": "code",
   "execution_count": null,
   "metadata": {},
   "outputs": [],
   "source": []
  }
 ],
 "metadata": {
  "kernelspec": {
   "display_name": "Python 3",
   "language": "python",
   "name": "python3"
  },
  "language_info": {
   "codemirror_mode": {
    "name": "ipython",
    "version": 3
   },
   "file_extension": ".py",
   "mimetype": "text/x-python",
   "name": "python",
   "nbconvert_exporter": "python",
   "pygments_lexer": "ipython3",
   "version": "3.11.1"
  },
  "orig_nbformat": 4,
  "vscode": {
   "interpreter": {
    "hash": "5238573367df39f7286bb46f9ff5f08f63a01a80960060ce41e3c79b190280fa"
   }
  }
 },
 "nbformat": 4,
 "nbformat_minor": 2
}
