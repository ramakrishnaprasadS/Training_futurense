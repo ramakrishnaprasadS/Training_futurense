{
 "cells": [
  {
   "cell_type": "code",
   "execution_count": 1,
   "id": "4fed4aa1",
   "metadata": {},
   "outputs": [],
   "source": [
    "import psycopg2\n",
    "\n",
    "#pip install psycopg2"
   ]
  },
  {
   "cell_type": "code",
   "execution_count": null,
   "id": "11f3ccae",
   "metadata": {},
   "outputs": [],
   "source": [
    "print(\"1\")"
   ]
  },
  {
   "cell_type": "code",
   "execution_count": 2,
   "id": "699db13c",
   "metadata": {},
   "outputs": [
    {
     "data": {
      "text/plain": [
       "'2.9.5 (dt dec pq3 ext lo64)'"
      ]
     },
     "execution_count": 2,
     "metadata": {},
     "output_type": "execute_result"
    }
   ],
   "source": [
    "psycopg2.__version__"
   ]
  },
  {
   "cell_type": "code",
   "execution_count": 15,
   "id": "3d5b5cdd",
   "metadata": {},
   "outputs": [],
   "source": [
    "hostname = 'localhost'\n",
    "database='chirantandb'\n",
    "username='postgres'\n",
    "pwd='chirantan'\n",
    "port_id='5432'\n",
    "cur=None\n",
    "conn=None\n",
    "\n",
    "#this is not how we connect usually in the real life projects\n",
    "# there are config files in which you get all the details for the connection\n",
    "# and then just by following the logs, you can connect"
   ]
  },
  {
   "cell_type": "code",
   "execution_count": 16,
   "id": "f1be77f6",
   "metadata": {},
   "outputs": [],
   "source": [
    "conn = psycopg2.connect(host=hostname,\n",
    "                       dbname=database,\n",
    "                       user=username,\n",
    "                       password=pwd,\n",
    "                       port=port_id)"
   ]
  },
  {
   "cell_type": "code",
   "execution_count": 17,
   "id": "3ad84757",
   "metadata": {},
   "outputs": [],
   "source": [
    "conn.close()\n",
    "\n",
    "#conn.close will close the database connection \n",
    "# it will make sure what code we write,will be in betweend database connection open and database connection close commands\n"
   ]
  },
  {
   "cell_type": "code",
   "execution_count": 6,
   "id": "a15b95c6",
   "metadata": {},
   "outputs": [],
   "source": [
    "# not try to change the hostname and see if this throws an error or not"
   ]
  },
  {
   "cell_type": "code",
   "execution_count": 18,
   "id": "c2f4a4c7",
   "metadata": {},
   "outputs": [
    {
     "name": "stdout",
     "output_type": "stream",
     "text": [
      "(1, 'Chirantan', 75000, 'D1')\n",
      "(2, 'Ojasvee', 87000, 'D1')\n",
      "(3, 'Prakash', 135000, 'D2')\n"
     ]
    }
   ],
   "source": [
    "#instead preferred method is to put the connection code in try and except block\n",
    "\n",
    "try:\n",
    "    conn = psycopg2.connect(host=hostname,\n",
    "                       dbname=database,\n",
    "                       user=username,\n",
    "                       password=pwd,\n",
    "                       port=port_id)\n",
    "    #create a cursor object\n",
    "    cur = conn.cursor()\n",
    "    #close the cursor\n",
    "    \n",
    "    cur.execute('DROP TABLE IF EXISTS employee_Miles')\n",
    "    # every time we run the script, it will first drop the table and then insert the values\n",
    "    # if we run the same script again and again it will throw error, because id is a Primary key \n",
    "    # and I cannot insert it again and again\n",
    "    \n",
    "    #write a script to create your table\n",
    "    create_script=\"\"\"CREATE TABLE IF NOT EXISTS employee_Miles(\n",
    "    id int PRIMARY KEY,\n",
    "    name varchar(40) NOT NULL,\n",
    "    salary int,\n",
    "    dept_id varchar(30))\"\"\"\n",
    "    \n",
    "    #in order to execute the above script, we use\n",
    "    cur.execute(create_script)\n",
    "    \n",
    "    #we need to insert some data into the table\n",
    "    insert_script='INSERT INTO employee_Miles(id,name,salary,dept_id) VALUES (%s,%s,%s,%s)'\n",
    "    insert_values=[(1,'Chirantan',50000,'D1'),(2,'Ojasvee',58000,'D1'),(3,'Prakash',90000,'D2')]\n",
    "    \n",
    "    for record in insert_values:\n",
    "        cur.execute(insert_script,record)\n",
    "    \n",
    "     #What if you want to update some data in the tables\n",
    "    update_script = 'UPDATE employee_Miles SET salary = salary + (salary*0.5)' #increment of salary by 50%\n",
    "    cur.execute(update_script)\n",
    "    \n",
    "    #what if you want to delete some tables from you database\n",
    "    #delete_script = 'DELETE FROM employee_Miles WHERE name= %s'\n",
    "    #delete_record=('Prakash',)\n",
    "    #cur.execute(delete_script,delete_record)\n",
    "    \n",
    "    \n",
    "    #Now, how do i fetch the data from my SQL database into my python notebook\n",
    "    cur.execute('SELECT * FROM employee_Miles')\n",
    "    for record in cur.fetchall():\n",
    "        print(record)  #you can see the tuple of records, fetchall is used to get the records\n",
    "        #print(record[1],record[2])\n",
    "    \n",
    " \n",
    "    \n",
    "    # we did not specify any values in VALUES so that we can avoid SQL injection\n",
    "    #instead we prefer using place holders\n",
    "    \n",
    "    #all the transactions that we do, we need to commit it, only then can we se that in our db\n",
    "    conn.commit()\n",
    "    \n",
    "    #you can see after this by going to pgadmin that the table is created\n",
    "    # and having the columns we wanted\n",
    "    \n",
    "except Exception as error:\n",
    "    print(error)\n",
    "finally: #finally block will execute no matter what the condition is \n",
    "    if cur is not None: #means the cursor was open, if the cursor is open only then close it\n",
    "        cur.close()\n",
    "    if conn is not None: #means the connection was open, if the connection is open only then close it\n",
    "        conn.close()\n",
    "  \n",
    "    "
   ]
  },
  {
   "cell_type": "code",
   "execution_count": null,
   "id": "07c4da58",
   "metadata": {},
   "outputs": [],
   "source": [
    "#in order to perform any database transactions\n",
    "# we need to open a cursor\n",
    "# cursor will help you perform SQL operations and also store the values returned from the operations"
   ]
  },
  {
   "cell_type": "code",
   "execution_count": null,
   "id": "fb131eff",
   "metadata": {},
   "outputs": [],
   "source": []
  },
  {
   "cell_type": "code",
   "execution_count": null,
   "id": "091bfeec",
   "metadata": {},
   "outputs": [],
   "source": []
  },
  {
   "cell_type": "code",
   "execution_count": null,
   "id": "b06b95ba",
   "metadata": {},
   "outputs": [],
   "source": []
  },
  {
   "cell_type": "code",
   "execution_count": null,
   "id": "8bddc95e",
   "metadata": {},
   "outputs": [],
   "source": []
  },
  {
   "cell_type": "code",
   "execution_count": null,
   "id": "62f4b356",
   "metadata": {},
   "outputs": [],
   "source": []
  },
  {
   "cell_type": "code",
   "execution_count": null,
   "id": "68bd6f31",
   "metadata": {},
   "outputs": [],
   "source": []
  },
  {
   "cell_type": "code",
   "execution_count": null,
   "id": "f173be2d",
   "metadata": {},
   "outputs": [],
   "source": []
  }
 ],
 "metadata": {
  "kernelspec": {
   "display_name": "Python 3",
   "language": "python",
   "name": "python3"
  },
  "language_info": {
   "codemirror_mode": {
    "name": "ipython",
    "version": 3
   },
   "file_extension": ".py",
   "mimetype": "text/x-python",
   "name": "python",
   "nbconvert_exporter": "python",
   "pygments_lexer": "ipython3",
   "version": "3.10.0"
  },
  "vscode": {
   "interpreter": {
    "hash": "8a5edab282632443219e051e4ade2d1d5bbc671c781051bf1437897cbdfea0f1"
   }
  }
 },
 "nbformat": 4,
 "nbformat_minor": 5
}
