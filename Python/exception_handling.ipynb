{
 "cells": [
  {
   "cell_type": "code",
   "execution_count": null,
   "metadata": {},
   "outputs": [],
   "source": [
    "# Exception Handling\n"
   ]
  },
  {
   "cell_type": "code",
   "execution_count": null,
   "metadata": {},
   "outputs": [],
   "source": [
    "filename1=\"C:\\\\Users\\\\miles\\\\Documents\\\\GitHub\\\\Training_futurense\\\\Python\\\\file1.txt\"\n",
    "filename2=\"C:\\\\Users\\\\miles\\\\Documents\\\\GitHub\\\\Training_futurense\\\\Python\\\\file2.txt\"\n",
    "try:\n",
    "    f=open(filename1,'r')\n",
    "    d=f.read()\n",
    "    print(d)\n",
    "    #a=4/0\n",
    "    f.close()\n",
    "except FileNotFoundError as fnf:\n",
    "    print(\"the file \\n\"+filename1+\"  \\nis not available\")\n",
    "    try:\n",
    "        f=open(filename2,'r')\n",
    "        d=f.read()\n",
    "        print(\"file opened from alternate location \"+filename2)\n",
    "        print(d)\n",
    "        f.close()\n",
    "    except FileNotFoundError as fnf2:\n",
    "        print(\"file not found in alternate location also\")\n",
    "    except Exception:\n",
    "        print(\"unexpected error 2\")\n",
    "    \n",
    "except Exception as e:\n",
    "    print(\"Unexpected Error1  is \"+str(e))\n",
    "finally:\n",
    "    f.close()\n",
    "    \n"
   ]
  },
  {
   "cell_type": "code",
   "execution_count": 3,
   "metadata": {},
   "outputs": [
    {
     "ename": "SyntaxError",
     "evalue": "invalid syntax (2768053033.py, line 6)",
     "output_type": "error",
     "traceback": [
      "\u001b[1;36m  Cell \u001b[1;32mIn[3], line 6\u001b[1;36m\u001b[0m\n\u001b[1;33m    raise Exception(\"enter valid 10 digit number\") as invalidErr\u001b[0m\n\u001b[1;37m                                                   ^\u001b[0m\n\u001b[1;31mSyntaxError\u001b[0m\u001b[1;31m:\u001b[0m invalid syntax\n"
     ]
    }
   ],
   "source": [
    "# Raising Exception\n",
    "while True:\n",
    "    mobile=input()\n",
    "    try:\n",
    "        if len(mobile)!=10:\n",
    "            raise Exception(\"enter valid 10 digit number\") as invalidErr\n",
    "        else :\n",
    "            break\n",
    "    except invalidErr:\n",
    "        continue\n"
   ]
  },
  {
   "cell_type": "code",
   "execution_count": 5,
   "metadata": {},
   "outputs": [
    {
     "name": "stdout",
     "output_type": "stream",
     "text": [
      "Exception occurred: Invalid Age\n"
     ]
    }
   ],
   "source": [
    "# define Python user-defined exceptions\n",
    "class InvalidAgeException(Exception):\n",
    "    #\"Raised when the input value is less than 18\"\n",
    "    pass\n",
    "\n",
    "# you need to guess this number\n",
    "number = 18\n",
    "\n",
    "try:\n",
    "    input_num = int(input(\"Enter a number: \"))\n",
    "    if input_num < number:\n",
    "        raise InvalidAgeException\n",
    "    else:\n",
    "        print(\"Eligible to Vote\")\n",
    "        \n",
    "except InvalidAgeException:\n",
    "    print(\"Exception occurred: Invalid Age\")"
   ]
  },
  {
   "cell_type": "code",
   "execution_count": 7,
   "metadata": {},
   "outputs": [
    {
     "name": "stdout",
     "output_type": "stream",
     "text": [
      "Exception occurred: Invalid Age\n",
      "Eligible to Vote\n"
     ]
    }
   ],
   "source": [
    "# define Python user-defined exceptions\n",
    "class InvalidAgeException(Exception):\n",
    "    #\"Raised when the input value is less than 18\"\n",
    "    pass\n",
    "\n",
    "# you need to guess this number\n",
    "while True:\n",
    "    number = 18\n",
    "\n",
    "    try:\n",
    "        input_num = int(input(\"Enter a number: \"))\n",
    "        if input_num < number:\n",
    "            raise InvalidAgeException\n",
    "        else:\n",
    "            print(\"Eligible to Vote\")\n",
    "            break\n",
    "            \n",
    "    except InvalidAgeException:\n",
    "        print(\"Exception occurred: Invalid Age\")"
   ]
  },
  {
   "cell_type": "code",
   "execution_count": null,
   "metadata": {},
   "outputs": [],
   "source": []
  }
 ],
 "metadata": {
  "kernelspec": {
   "display_name": "Python 3",
   "language": "python",
   "name": "python3"
  },
  "language_info": {
   "codemirror_mode": {
    "name": "ipython",
    "version": 3
   },
   "file_extension": ".py",
   "mimetype": "text/x-python",
   "name": "python",
   "nbconvert_exporter": "python",
   "pygments_lexer": "ipython3",
   "version": "3.11.1 (tags/v3.11.1:a7a450f, Dec  6 2022, 19:58:39) [MSC v.1934 64 bit (AMD64)]"
  },
  "orig_nbformat": 4,
  "vscode": {
   "interpreter": {
    "hash": "5238573367df39f7286bb46f9ff5f08f63a01a80960060ce41e3c79b190280fa"
   }
  }
 },
 "nbformat": 4,
 "nbformat_minor": 2
}
