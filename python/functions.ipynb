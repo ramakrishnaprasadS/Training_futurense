{
 "cells": [
  {
   "cell_type": "code",
   "execution_count": null,
   "metadata": {},
   "outputs": [],
   "source": []
  },
  {
   "attachments": {},
   "cell_type": "markdown",
   "metadata": {},
   "source": [
    "# functions\n",
    "'''\n",
    "def func_name():   # function declaration\n",
    "    statements\n",
    "    return (optional)\n",
    "\n",
    "func_name()    # function calling\n",
    "\n",
    "'''"
   ]
  }
 ],
 "metadata": {
  "language_info": {
   "name": "python"
  },
  "orig_nbformat": 4
 },
 "nbformat": 4,
 "nbformat_minor": 2
}
