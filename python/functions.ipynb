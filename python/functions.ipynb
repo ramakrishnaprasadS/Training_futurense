{
 "cells": [
  {
   "cell_type": "code",
   "execution_count": 2,
   "metadata": {},
   "outputs": [
    {
     "name": "stdout",
     "output_type": "stream",
     "text": [
      "<zip object at 0x0000016D4ECEB840>\n",
      "(('r', 1), ('a', 2), ('m', 6))\n"
     ]
    }
   ],
   "source": [
    "lista=[\"r\",\"a\",\"m\"]\n",
    "tuplea=(1,2,6)\n",
    "print(zip(lista,tuplea))\n",
    "print(tuple(zip(lista,tuplea)))"
   ]
  },
  {
   "cell_type": "code",
   "execution_count": null,
   "metadata": {},
   "outputs": [],
   "source": [
    "# functions\n",
    "'''\n",
    "def func_name():   # function declaration\n",
    "    statements\n",
    "    return (optional)\n",
    "\n",
    "func_name()    # function calling\n",
    "\n",
    "'''"
   ]
  },
  {
   "attachments": {},
   "cell_type": "markdown",
   "metadata": {},
   "source": [
    "# lambda function\n",
    "no name\n",
    "single statement\n",
    "default return"
   ]
  },
  {
   "cell_type": "code",
   "execution_count": 18,
   "metadata": {},
   "outputs": [
    {
     "name": "stdout",
     "output_type": "stream",
     "text": [
      "100\n"
     ]
    }
   ],
   "source": [
    "x=lambda num: num**2\n",
    "print(x(10))\n",
    "\n"
   ]
  },
  {
   "cell_type": "code",
   "execution_count": 19,
   "metadata": {},
   "outputs": [
    {
     "data": {
      "text/plain": [
       "30"
      ]
     },
     "execution_count": 19,
     "metadata": {},
     "output_type": "execute_result"
    }
   ],
   "source": [
    "(lambda a,b: a+b) (10,20)"
   ]
  },
  {
   "cell_type": "code",
   "execution_count": 22,
   "metadata": {},
   "outputs": [
    {
     "name": "stdout",
     "output_type": "stream",
     "text": [
      "[81, 64, 64, 81, 36, 64]\n"
     ]
    }
   ],
   "source": [
    "# map --iterate over the each element ---apply functionality----return output\n",
    "list1=[9,8,8,9,6,8]\n",
    "def squareOfnum(num):\n",
    "    return num*num\n",
    "map(squareOfnum,list1)\n",
    "op=list(map(squareOfnum,list1))\n",
    "print(op)"
   ]
  },
  {
   "cell_type": "code",
   "execution_count": 24,
   "metadata": {},
   "outputs": [
    {
     "ename": "TypeError",
     "evalue": "can't multiply sequence by non-int of type 'str'",
     "output_type": "error",
     "traceback": [
      "\u001b[1;31m---------------------------------------------------------------------------\u001b[0m",
      "\u001b[1;31mTypeError\u001b[0m                                 Traceback (most recent call last)",
      "Cell \u001b[1;32mIn[24], line 1\u001b[0m\n\u001b[1;32m----> 1\u001b[0m \u001b[39mlist\u001b[39;49m(\u001b[39mmap\u001b[39;49m(\u001b[39mlambda\u001b[39;49;00m x: x\u001b[39m*\u001b[39;49mx,lista))\n",
      "Cell \u001b[1;32mIn[24], line 1\u001b[0m, in \u001b[0;36m<lambda>\u001b[1;34m(x)\u001b[0m\n\u001b[1;32m----> 1\u001b[0m \u001b[39mlist\u001b[39m(\u001b[39mmap\u001b[39m(\u001b[39mlambda\u001b[39;00m x: x\u001b[39m*\u001b[39;49mx,lista))\n",
      "\u001b[1;31mTypeError\u001b[0m: can't multiply sequence by non-int of type 'str'"
     ]
    }
   ],
   "source": [
    "list(map(lambda x: x*x,lista))"
   ]
  },
  {
   "cell_type": "code",
   "execution_count": 3,
   "metadata": {},
   "outputs": [
    {
     "name": "stdout",
     "output_type": "stream",
     "text": [
      "hello ram\n",
      "<function ram at 0x0000023E6F3CDA80>\n",
      "<function ram at 0x0000023E6F3CDA80>\n",
      "hello ram\n"
     ]
    }
   ],
   "source": [
    "def ram():\n",
    "    print(\"hello ram\")\n",
    "ram()\n",
    "print(ram)\n",
    "x=ram\n",
    "print(x)\n",
    "x()"
   ]
  },
  {
   "cell_type": "code",
   "execution_count": 2,
   "metadata": {},
   "outputs": [
    {
     "name": "stdout",
     "output_type": "stream",
     "text": [
      "placement function called\n",
      "Hey user joker\n"
     ]
    }
   ],
   "source": [
    "def joker():\n",
    "    print(\"Hey user joker\")\n",
    "def placement(status,abc):\n",
    "    print(\"placement function called\")\n",
    "    abc()\n",
    "placement(\"user placed\",joker)\n",
    "#abc=joker()\n",
    "#print(abc)"
   ]
  },
  {
   "cell_type": "code",
   "execution_count": 28,
   "metadata": {},
   "outputs": [
    {
     "name": "stdout",
     "output_type": "stream",
     "text": [
      "id1 25.0\n",
      "id2 55.0\n",
      "id3 64.25\n"
     ]
    }
   ],
   "source": [
    "# create dictionary consisisting of several\n",
    "\n",
    "avg1=lambda marks : sum(marks)/len(marks)\n",
    "avg1([100,100,100,100])\n",
    "dict1={\"id1\":[10,20,30,40],\"id2\":[89,45,45,41],\"id3\":[45,45,78,89]}\n",
    "for key in dict1.keys():\n",
    "    print(key,avg1(dict1[key]))\n",
    "\n"
   ]
  },
  {
   "cell_type": "code",
   "execution_count": 37,
   "metadata": {},
   "outputs": [
    {
     "name": "stdout",
     "output_type": "stream",
     "text": [
      "[('ram', 290), ('ravi', 230), ('hari', 210), ('teja', 250)]\n"
     ]
    }
   ],
   "source": [
    "calci={\"avg\":lambda marks : sum(marks)/len(marks),\"maximum\":lambda marks:max(marks),\"total\":lambda marks:sum(marks)}\n",
    "#print(mydict1[\"avg\"]([100,100,50]))\n",
    "\n",
    "# now enhance this to calculate the max ,sum,avg\n",
    "#users={\"ram\":[100,90,50],\"hari\":[50,45,89],\"ravi\":[78,89,78]}\n",
    "data=[{\"name\":\"ram\",\"marks\":[100,90,100]},{\"name\":\"ravi\",\"marks\":[90,60,80]},{\"name\":\"hari\",\"marks\":[80,50,80]},{\"name\":\"teja\",\"marks\":[100,90,60]}]\n",
    "choice=input(\"enter avg or maximum or total as your choice\")\n",
    "output=[]\n",
    "for student in data:\n",
    "    student_result=calci[choice](student[\"marks\"])\n",
    "    student_name=student[\"name\"]\n",
    "    output.append((student_name,student_result))\n",
    "print(output)\n",
    "\n",
    "\n"
   ]
  },
  {
   "cell_type": "code",
   "execution_count": 5,
   "metadata": {},
   "outputs": [
    {
     "name": "stdout",
     "output_type": "stream",
     "text": [
      "[1, 3, 5, 13]\n",
      "[0, 2, 8]\n"
     ]
    }
   ],
   "source": [
    "# a list contains both even and odd numbers.\n",
    "seq = [0, 1, 2, 3, 5, 8, 13]\n",
    "\n",
    "# result contains odd numbers of the list\n",
    "result = filter(lambda x: x % 2 != 0, seq)\n",
    "print(list(result))\n",
    "\n",
    "# result contains even numbers of the list\n",
    "result = filter(lambda x: x % 2 == 0, seq)\n",
    "print(list(result))\n"
   ]
  },
  {
   "cell_type": "code",
   "execution_count": 1,
   "metadata": {},
   "outputs": [
    {
     "name": "stdout",
     "output_type": "stream",
     "text": [
      "Hello\n",
      "Welcome\n",
      "to\n",
      "GeeksforGeeks\n"
     ]
    }
   ],
   "source": [
    "def myFun(*argv):\n",
    "\tfor arg in argv:\n",
    "\t\tprint(arg)\n",
    "\n",
    "\n",
    "myFun('Hello', 'Welcome', 'to', 'GeeksforGeeks')\n"
   ]
  },
  {
   "cell_type": "code",
   "execution_count": 8,
   "metadata": {},
   "outputs": [
    {
     "name": "stdout",
     "output_type": "stream",
     "text": [
      "%s == %s ('first', 1)\n",
      "first == 1\n",
      "%s == %s ('mid', 'for')\n",
      "mid == for\n",
      "%s == %s ('last', 'Geeks')\n",
      "last == Geeks\n"
     ]
    }
   ],
   "source": [
    "def myFun(**kwargs):\n",
    "\tfor key, value in kwargs.items():\n",
    "\t\tprint('%s == %s'  ,(key, value))\n",
    "\t\tprint(\"{} == {}\".format(key, value))\n",
    "\n",
    "\n",
    "# Driver code\n",
    "myFun(first=1, mid='for', last='Geeks')\n"
   ]
  },
  {
   "cell_type": "code",
   "execution_count": null,
   "metadata": {},
   "outputs": [],
   "source": []
  }
 ],
 "metadata": {
  "kernelspec": {
   "display_name": "Python 3",
   "language": "python",
   "name": "python3"
  },
  "language_info": {
   "codemirror_mode": {
    "name": "ipython",
    "version": 3
   },
   "file_extension": ".py",
   "mimetype": "text/x-python",
   "name": "python",
   "nbconvert_exporter": "python",
   "pygments_lexer": "ipython3",
   "version": "3.11.1"
  },
  "orig_nbformat": 4,
  "vscode": {
   "interpreter": {
    "hash": "5238573367df39f7286bb46f9ff5f08f63a01a80960060ce41e3c79b190280fa"
   }
  }
 },
 "nbformat": 4,
 "nbformat_minor": 2
}
