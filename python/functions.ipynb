{
 "cells": [
  {
   "cell_type": "code",
   "execution_count": null,
   "metadata": {},
   "outputs": [],
   "source": []
  },
  {
   "attachments": {},
   "cell_type": "markdown",
   "metadata": {},
   "source": [
    "# functions\n",
    "'''\n",
    "def func_name():   # function declaration\n",
    "    statements\n",
    "    return (optional)\n",
    "\n",
    "func_name()    # function calling\n",
    "\n",
    "'''"
   ]
  }
 ],
 "metadata": {
  "kernelspec": {
   "display_name": "Python 3",
   "language": "python",
   "name": "python3"
  },
  "language_info": {
   "name": "python",
   "version": "3.11.1 (tags/v3.11.1:a7a450f, Dec  6 2022, 19:58:39) [MSC v.1934 64 bit (AMD64)]"
  },
  "orig_nbformat": 4,
  "vscode": {
   "interpreter": {
    "hash": "33038eea0cd9b5c6051724c1953e0e3ff79f65fcaea6e9dca2ba4e0ebe69ec04"
   }
  }
 },
 "nbformat": 4,
 "nbformat_minor": 2
}
