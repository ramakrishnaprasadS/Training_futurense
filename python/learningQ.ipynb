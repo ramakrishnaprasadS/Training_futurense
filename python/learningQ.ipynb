{
 "cells": [
  {
   "attachments": {},
   "cell_type": "markdown",
   "metadata": {},
   "source": [
    "1. procedural language means?\n",
    "\n",
    "procedural language specifies how it is to be done--->C,COBAL,FORTAN\n",
    "\n",
    "java,c++,sql are non procedural languages--->statement or command driven--->fact orinted --->specifies what to be done..\n",
    "\n",
    "Python is an interpreted, interactive, object-oriented programming language\n",
    "It supports multiple programming paradigms beyond object-oriented programming, such as procedural and functional programming.\n"
   ]
  },
  {
   "attachments": {},
   "cell_type": "markdown",
   "metadata": {},
   "source": [
    "2. is complex data type mutable or immutable\n",
    "\n",
    "Numeric objects such as integer, float and complex number objects occupy the memory and memory contents can not be changed. Such objects are called immutable.\n"
   ]
  },
  {
   "attachments": {},
   "cell_type": "markdown",
   "metadata": {},
   "source": [
    "3. call by value Vs call  reference\n",
    "\n",
    "In call by value ,copy of values are passed as arguments-->like passing int,str values as arguments which are immutable---->any chnage to these arguments inside the function doesnt reflect same variable outside the function\n",
    "\n",
    "In call by reference, memory location is passed as argument---> like passing lists,etc..which are mutable---->obviously chnage to these arguments inside the function  reflect same variable outside the function\n",
    "\n"
   ]
  },
  {
   "attachments": {},
   "cell_type": "markdown",
   "metadata": {},
   "source": [
    "4. Iterator Vs Iterable\n",
    "\n",
    "Iterable --> object over which we can iterate -->\n",
    "\n",
    "Iterator -->An Iterator is also an object that helps a user in iterating over another object (that is iterable)."
   ]
  },
  {
   "attachments": {},
   "cell_type": "markdown",
   "metadata": {},
   "source": [
    "5. Ascii Vs UTF-8\n",
    "\n",
    "Ascii ---> can represnt only 127 characters through this character encoding.\n",
    "\n",
    "UTF-8 ---> can represent any character in world through this character encoding\n",
    "\n"
   ]
  },
  {
   "attachments": {},
   "cell_type": "markdown",
   "metadata": {},
   "source": [
    "6. Namespaces and types in Python\n",
    "\n",
    "A namespace is a declarative region that provides a scope to the identifiers (the names of types, functions, variables, etc) inside it. \n",
    "-types are \n",
    "    Built in namespace\n",
    "    Global namespace\n",
    "    local namespace"
   ]
  },
  {
   "attachments": {},
   "cell_type": "markdown",
   "metadata": {},
   "source": [
    "7. List Vs Tuple\n",
    "\n",
    "lists-->mutable,more built-in methods to operate\n",
    "\n",
    "tuples-->immutable,faster to access,consumes less memory"
   ]
  },
  {
   "attachments": {},
   "cell_type": "markdown",
   "metadata": {},
   "source": [
    "8. Variable Storage Location in python ? stack or Heap\n",
    "\n",
    "\n",
    "????"
   ]
  },
  {
   "attachments": {},
   "cell_type": "markdown",
   "metadata": {},
   "source": [
    "9. Usecase of Zip and Enumerate\n",
    "\n",
    "enumerate(iterable) --> given the each item of iterable along with its index as tuple.\n",
    "\n",
    "zip(iterable1,iterable2) --> combines each value iterable1 and iterable2 as tuple and returns the entire object....we need to convert it to list."
   ]
  },
  {
   "cell_type": "markdown",
   "metadata": {},
   "source": []
  },
  {
   "attachments": {},
   "cell_type": "markdown",
   "metadata": {},
   "source": [
    "10.How to covert a number into hexadecimal,octal\n",
    "\n",
    "hex(intger_num)  --> coverts integer number to hexadecimal string\n",
    "oct(integer_num) --> coverts integer number to octal string\n",
    "\n",
    "????why we need these"
   ]
  },
  {
   "attachments": {},
   "cell_type": "markdown",
   "metadata": {},
   "source": [
    "11. frozenset \n",
    "\n",
    "frozenset(iterable) -->returns immutable version of iterable\n",
    "\n",
    "Iterable can be set, dictionary, tuple, etc."
   ]
  },
  {
   "cell_type": "code",
   "execution_count": null,
   "metadata": {},
   "outputs": [],
   "source": [
    "12.first class functions?\n",
    "  high order function"
   ]
  },
  {
   "attachments": {},
   "cell_type": "markdown",
   "metadata": {},
   "source": [
    "13. use case of x, a, w (what they will do with files)"
   ]
  },
  {
   "attachments": {},
   "cell_type": "markdown",
   "metadata": {},
   "source": [
    "14. write programs to read csv , json & flat files\n",
    "\n",
    "fileObj4=open(\"Attrition Data.csv\",\"r\")\n",
    "p=fileObj4.read()\n",
    "print(p)\n",
    "fileObj4.close()\n",
    "\n",
    "\n",
    "fileObj4=open(\"example_1.json\",\"r\")\n",
    "p=fileObj4.read()\n",
    "print(p)\n",
    "fileObj4.close()\n",
    "\n"
   ]
  },
  {
   "attachments": {},
   "cell_type": "markdown",
   "metadata": {},
   "source": [
    "15. use case of readline() and readlines()"
   ]
  },
  {
   "cell_type": "markdown",
   "metadata": {},
   "source": []
  }
 ],
 "metadata": {
  "kernelspec": {
   "display_name": "Python 3",
   "language": "python",
   "name": "python3"
  },
  "language_info": {
   "name": "python",
   "version": "3.11.1 (tags/v3.11.1:a7a450f, Dec  6 2022, 19:58:39) [MSC v.1934 64 bit (AMD64)]"
  },
  "orig_nbformat": 4,
  "vscode": {
   "interpreter": {
    "hash": "33038eea0cd9b5c6051724c1953e0e3ff79f65fcaea6e9dca2ba4e0ebe69ec04"
   }
  }
 },
 "nbformat": 4,
 "nbformat_minor": 2
}
