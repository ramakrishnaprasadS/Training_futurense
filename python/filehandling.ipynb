{
 "cells": [
  {
   "cell_type": "code",
   "execution_count": null,
   "metadata": {},
   "outputs": [],
   "source": []
  },
  {
   "cell_type": "code",
   "execution_count": null,
   "metadata": {},
   "outputs": [],
   "source": [
    "### file handling\n",
    "### open, read & write ,close\n",
    "### open(\"filename\",access mode)\n",
    "### file I/O file IO handling\n",
    "### r , w , r+ , w+ , a, a+, rb , rb+ , wb , wb+, , ab , ab+\n",
    "'''\n",
    "SN\tAccess mode\tDescription\n",
    "1\tr\tIt opens the file to read-only mode. The file pointer exists at the beginning. The file is by default open in this mode if no access mode is passed.\n",
    "2\trb\tIt opens the file to read-only in binary format. The file pointer exists at the beginning of the file.\n",
    "3\tr+\tIt opens the file to read and write both. The file pointer exists at the beginning of the file.\n",
    "4\trb+\tIt opens the file to read and write both in binary format. The file pointer exists at the beginning of the file.\n",
    "5\tw\tIt opens the file to write only. It overwrites the file if previously exists or creates a new one if no file exists with the same name. The file pointer exists at the beginning of the file.\n",
    "6\twb\tIt opens the file to write only in binary format. It overwrites the file if it exists previously or creates a new one if no file exists. The file pointer exists at the beginning of the file.\n",
    "7\tw+\tIt opens the file to write and read both. It is different from r+ in the sense that it overwrites the previous file if one exists whereas r+ doesn't overwrite the previously written file. It creates a new file if no file exists. The file pointer exists at the beginning of the file.\n",
    "8\twb+\tIt opens the file to write and read both in binary format. The file pointer exists at the beginning of the file.\n",
    "9\ta\tIt opens the file in the append mode. The file pointer exists at the end of the previously written file if exists any. It creates a new file if no file exists with the same name.\n",
    "10\tab\tIt opens the file in the append mode in binary format. The pointer exists at the end of the previously written file. It creates a new file in binary format if no file exists with the same name.\n",
    "11\ta+\tIt opens a file to append and read both. The file pointer remains at the end of the file if a file exists. It creates a new file if no file exists with the same name.\n",
    "12\tab+\tIt opens a file to append and read both in binary format. The file pointer remains at the end of the file.\n",
    "'''\n"
   ]
  },
  {
   "cell_type": "code",
   "execution_count": 4,
   "metadata": {},
   "outputs": [
    {
     "name": "stdout",
     "output_type": "stream",
     "text": [
      "Hi this is file1\n"
     ]
    }
   ],
   "source": [
    "fileObj = open(\"file1.txt\",\"r\")\n",
    "data=fileObj.read()\n",
    "print(data)\n",
    "fileObj.close()"
   ]
  },
  {
   "cell_type": "code",
   "execution_count": null,
   "metadata": {},
   "outputs": [],
   "source": [
    "\"x\" - Create - will create a file, returns an error if the file exist\n",
    "\n",
    "\"a\" - Append - will create a file if the specified file does not exist\n",
    "\n",
    "\"w\" - Write - will create a file if the specified file does not exist"
   ]
  },
  {
   "cell_type": "code",
   "execution_count": 5,
   "metadata": {},
   "outputs": [],
   "source": [
    "fileObj2=open(\"file2.txt\",\"w\")   # new file created and we cant read it,...old contents are removed and new contents only present\n",
    "fileObj2.write(\"new content added\")\n",
    "fileObj2.close()"
   ]
  },
  {
   "cell_type": "code",
   "execution_count": 7,
   "metadata": {},
   "outputs": [],
   "source": [
    "\n",
    "fileObj3=open(\"file2.txt\",\"r+\")  # we can read and then write after the existing contents\n",
    "fileObj3.read()\n",
    "fileObj3.write(\"adding new contents\")\n",
    "fileObj3.close()   # after closing only write will be saved"
   ]
  },
  {
   "cell_type": "code",
   "execution_count": 8,
   "metadata": {},
   "outputs": [],
   "source": [
    "fileObj3=open(\"file2.txt\",\"a+\")\n",
    "fileObj3.write(\"appending new contents\")\n",
    "fileObj3.close()   "
   ]
  },
  {
   "cell_type": "code",
   "execution_count": 15,
   "metadata": {},
   "outputs": [
    {
     "name": "stdout",
     "output_type": "stream",
     "text": [
      "77\n",
      "105\n"
     ]
    }
   ],
   "source": [
    "fileObj4=open(\"file2.txt\",\"a+\")\n",
    "print(fileObj4.tell())\n",
    "fileObj4.write(\"appending new contents again\")\n",
    "print(fileObj4.tell())\n",
    "fileObj4.close()   "
   ]
  },
  {
   "cell_type": "code",
   "execution_count": 1,
   "metadata": {},
   "outputs": [
    {
     "name": "stdout",
     "output_type": "stream",
     "text": [
      "new file with new contentsexisting file  contents added to existing content r+\n"
     ]
    }
   ],
   "source": [
    "with open(\"file1.txt\",\"r\") as fileobja:\n",
    "    data=fileobja.read()\n",
    "print(data)\n",
    "#fileobja.close()  --->once we come out of the indentation file will be automatically closed"
   ]
  },
  {
   "cell_type": "markdown",
   "metadata": {},
   "source": [
    "fileobj.readlines() -->gives all lines in the file in the form of list..."
   ]
  },
  {
   "attachments": {},
   "cell_type": "markdown",
   "metadata": {},
   "source": [
    "fileobj.seek(3)---------> to move the cursor position to 3rd character in file "
   ]
  },
  {
   "cell_type": "code",
   "execution_count": null,
   "metadata": {},
   "outputs": [],
   "source": [
    "# removing the file\n",
    "import os\n",
    "if os.path.exists(\"demofile.txt\"):\n",
    "  os.remove(\"demofile.txt\")\n",
    "else:\n",
    "  print(\"The file does not exist\")"
   ]
  },
  {
   "cell_type": "code",
   "execution_count": null,
   "metadata": {},
   "outputs": [],
   "source": [
    "import os\n",
    "os.rmdir(\"myfolder\")"
   ]
  }
 ],
 "metadata": {
  "kernelspec": {
   "display_name": "Python 3",
   "language": "python",
   "name": "python3"
  },
  "language_info": {
   "codemirror_mode": {
    "name": "ipython",
    "version": 3
   },
   "file_extension": ".py",
   "mimetype": "text/x-python",
   "name": "python",
   "nbconvert_exporter": "python",
   "pygments_lexer": "ipython3",
   "version": "3.11.1 (tags/v3.11.1:a7a450f, Dec  6 2022, 19:58:39) [MSC v.1934 64 bit (AMD64)]"
  },
  "orig_nbformat": 4,
  "vscode": {
   "interpreter": {
    "hash": "5238573367df39f7286bb46f9ff5f08f63a01a80960060ce41e3c79b190280fa"
   }
  }
 },
 "nbformat": 4,
 "nbformat_minor": 2
}
