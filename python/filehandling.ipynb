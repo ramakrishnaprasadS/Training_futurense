{
 "cells": [
  {
   "cell_type": "code",
   "execution_count": null,
   "metadata": {},
   "outputs": [],
   "source": []
  },
  {
   "attachments": {},
   "cell_type": "markdown",
   "metadata": {},
   "source": [
    "# file handling\n",
    "# open, read & write ,close\n",
    "# open(\"filename\",access mode)\n",
    "# file I/O file IO handling\n",
    "# r , w , r+ , w+ , a, a+, rb , rb+ , wb , wb+, , ab , ab+\n"
   ]
  },
  {
   "cell_type": "code",
   "execution_count": 4,
   "metadata": {},
   "outputs": [
    {
     "name": "stdout",
     "output_type": "stream",
     "text": [
      "Hi this is file1\n"
     ]
    }
   ],
   "source": [
    "fileObj = open(\"file1.txt\",\"r\")\n",
    "data=fileObj.read()\n",
    "print(data)\n",
    "fileObj.close()"
   ]
  },
  {
   "cell_type": "code",
   "execution_count": 5,
   "metadata": {},
   "outputs": [],
   "source": [
    "fileObj2=open(\"file2.txt\",\"w\")   # new file created\n",
    "fileObj2.write(\"new content added\")\n",
    "fileObj2.close()"
   ]
  },
  {
   "cell_type": "code",
   "execution_count": 7,
   "metadata": {},
   "outputs": [],
   "source": [
    "\n",
    "fileObj3=open(\"file2.txt\",\"r+\")\n",
    "fileObj3.read()\n",
    "fileObj3.write(\"adding new contents\")\n",
    "fileObj3.close()   # after closing only write will be saved"
   ]
  },
  {
   "cell_type": "code",
   "execution_count": 8,
   "metadata": {},
   "outputs": [],
   "source": [
    "fileObj3=open(\"file2.txt\",\"a+\")\n",
    "fileObj3.write(\"appending new contents\")\n",
    "fileObj3.close()   "
   ]
  },
  {
   "cell_type": "code",
   "execution_count": 15,
   "metadata": {},
   "outputs": [
    {
     "name": "stdout",
     "output_type": "stream",
     "text": [
      "77\n",
      "105\n"
     ]
    }
   ],
   "source": [
    "fileObj4=open(\"file2.txt\",\"a+\")\n",
    "print(fileObj4.tell())\n",
    "fileObj4.write(\"appending new contents again\")\n",
    "print(fileObj4.tell())\n",
    "fileObj4.close()   "
   ]
  },
  {
   "cell_type": "code",
   "execution_count": 13,
   "metadata": {},
   "outputs": [
    {
     "name": "stdout",
     "output_type": "stream",
     "text": [
      "Hi this is file1\n"
     ]
    }
   ],
   "source": [
    "with open(\"file1.txt\",\"r\") as fileobja:\n",
    "    data=fileobja.read()\n",
    "print(data)\n",
    "fileobja.close()"
   ]
  },
  {
   "cell_type": "code",
   "execution_count": null,
   "metadata": {},
   "outputs": [],
   "source": []
  }
 ],
 "metadata": {
  "kernelspec": {
   "display_name": "Python 3",
   "language": "python",
   "name": "python3"
  },
  "language_info": {
   "codemirror_mode": {
    "name": "ipython",
    "version": 3
   },
   "file_extension": ".py",
   "mimetype": "text/x-python",
   "name": "python",
   "nbconvert_exporter": "python",
   "pygments_lexer": "ipython3",
   "version": "3.11.1 (tags/v3.11.1:a7a450f, Dec  6 2022, 19:58:39) [MSC v.1934 64 bit (AMD64)]"
  },
  "orig_nbformat": 4,
  "vscode": {
   "interpreter": {
    "hash": "5238573367df39f7286bb46f9ff5f08f63a01a80960060ce41e3c79b190280fa"
   }
  }
 },
 "nbformat": 4,
 "nbformat_minor": 2
}
