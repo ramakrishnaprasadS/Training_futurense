{
 "cells": [
  {
   "attachments": {},
   "cell_type": "markdown",
   "metadata": {},
   "source": [
    "# lists"
   ]
  },
  {
   "cell_type": "code",
   "execution_count": 1,
   "metadata": {},
   "outputs": [
    {
     "name": "stdout",
     "output_type": "stream",
     "text": [
      "[1, 2, 'df', 3231]\n"
     ]
    }
   ],
   "source": [
    "list1=[1,2,\"df\",3231]\n",
    "print(list1)"
   ]
  },
  {
   "cell_type": "code",
   "execution_count": 3,
   "metadata": {},
   "outputs": [
    {
     "name": "stdout",
     "output_type": "stream",
     "text": [
      "['hi', 2, 'df', 3231]\n"
     ]
    }
   ],
   "source": [
    "list1[0]\n",
    "list1[0]=\"hi\"\n",
    "print(list1)"
   ]
  },
  {
   "cell_type": "code",
   "execution_count": 1,
   "metadata": {},
   "outputs": [
    {
     "name": "stdout",
     "output_type": "stream",
     "text": [
      "{10, 20, 30}\n"
     ]
    }
   ],
   "source": [
    "# set\n",
    "set1=set({})\n",
    "set1={10,20,30,20}\n",
    "print(set1)"
   ]
  },
  {
   "cell_type": "code",
   "execution_count": 2,
   "metadata": {},
   "outputs": [
    {
     "name": "stdout",
     "output_type": "stream",
     "text": [
      "{40, 10, 20, 30}\n"
     ]
    }
   ],
   "source": [
    "set1.add(40)\n",
    "print(set1)"
   ]
  },
  {
   "cell_type": "code",
   "execution_count": 3,
   "metadata": {},
   "outputs": [
    {
     "name": "stdout",
     "output_type": "stream",
     "text": [
      "{40, 10, 20, 56, 89, 30}\n"
     ]
    }
   ],
   "source": [
    "set1.update([89,56,89])\n",
    "print(set1)"
   ]
  },
  {
   "cell_type": "code",
   "execution_count": 10,
   "metadata": {},
   "outputs": [
    {
     "name": "stdout",
     "output_type": "stream",
     "text": [
      "[1, 'ravi@gmail.com', 9, 25, 'ram@gmail.com', 3145.9759209999997, 'hari@gmail.com']\n"
     ]
    }
   ],
   "source": [
    "#create a set containing multiple elements , check if set elements are int or float. if yes squre them and append to a list1\n",
    "# and in case we have some string data we need to append it with @\n",
    "\n",
    "test={1,3,5,\"ravi\",5.0,56.089,\"ram\",5,\"hari\"}\n",
    "output=[]\n",
    "for each in test:\n",
    "    if type(each) is int or type(each) is float:\n",
    "        output.append(each**2)\n",
    "    elif type(each) is str :\n",
    "        mail=each+\"@gmail.com\"\n",
    "        output.append(mail)\n",
    "print(output)\n",
    "        "
   ]
  },
  {
   "cell_type": "code",
   "execution_count": 20,
   "metadata": {},
   "outputs": [
    {
     "name": "stdout",
     "output_type": "stream",
     "text": [
      "{1, 2}\n",
      "{8, 9, 6, 7}\n",
      "{1, 2, 6, 7, 8, 9}\n",
      "False\n",
      "False\n",
      "False\n",
      "False\n",
      "False\n"
     ]
    }
   ],
   "source": [
    "#create 2 sets , use a difference method ,dijoint method,subset method,use symmetric difference method \n",
    "# issuperset method\n",
    "set1={1,2,3,4,5}\n",
    "set2={3,4,5,6,7,8,9}\n",
    "print(set1.difference(set2))\n",
    "print(set2.difference(set1))\n",
    "print(set1.symmetric_difference(set2)) # exclude common ele in both\n",
    "print(set1.isdisjoint(set2))\n",
    "print(set2.isdisjoint(set1))\n",
    "print(set1.issubset(set2))\n",
    "print(set1.issuperset(set2))\n",
    "print(set2.issuperset(set1))"
   ]
  },
  {
   "cell_type": "code",
   "execution_count": 19,
   "metadata": {},
   "outputs": [
    {
     "name": "stdout",
     "output_type": "stream",
     "text": [
      "hey user, we welcome you,\n"
     ]
    }
   ],
   "source": [
    "# take ip from usr, should return all unique words in ip\n",
    "# do not use any special functions \n",
    "#string1=input(\"enter sentence\")\n",
    "string1=\"hey user, we we welcome you, hey\"\n",
    "list1=string1.split(\" \")\n",
    "listop=[]\n",
    "for each in list1:\n",
    "    #each=each.strip(\",\")                  # ############### any charcter should be stripped\n",
    "    if each not in listop:\n",
    "        listop.append(each)\n",
    "print(\" \".join(listop))\n",
    "\n"
   ]
  },
  {
   "cell_type": "code",
   "execution_count": null,
   "metadata": {},
   "outputs": [],
   "source": []
  }
 ],
 "metadata": {
  "kernelspec": {
   "display_name": "Python 3",
   "language": "python",
   "name": "python3"
  },
  "language_info": {
   "codemirror_mode": {
    "name": "ipython",
    "version": 3
   },
   "file_extension": ".py",
   "mimetype": "text/x-python",
   "name": "python",
   "nbconvert_exporter": "python",
   "pygments_lexer": "ipython3",
   "version": "3.11.1"
  },
  "orig_nbformat": 4,
  "vscode": {
   "interpreter": {
    "hash": "33038eea0cd9b5c6051724c1953e0e3ff79f65fcaea6e9dca2ba4e0ebe69ec04"
   }
  }
 },
 "nbformat": 4,
 "nbformat_minor": 2
}
